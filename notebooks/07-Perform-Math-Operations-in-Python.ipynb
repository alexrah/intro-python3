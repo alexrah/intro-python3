{
 "cells": [
  {
   "metadata": {},
   "cell_type": "markdown",
   "source": "divide & return int/float",
   "id": "8c77fcad651f99a1"
  },
  {
   "cell_type": "code",
   "id": "initial_id",
   "metadata": {
    "collapsed": true,
    "ExecuteTime": {
     "end_time": "2024-07-01T21:05:10.217075Z",
     "start_time": "2024-07-01T21:05:10.212560Z"
    }
   },
   "source": "3 / 4",
   "outputs": [
    {
     "data": {
      "text/plain": [
       "0.75"
      ]
     },
     "execution_count": 3,
     "metadata": {},
     "output_type": "execute_result"
    }
   ],
   "execution_count": 3
  },
  {
   "metadata": {},
   "cell_type": "markdown",
   "source": "same as above (Python 2 version)",
   "id": "79f8d2b1c40f460d"
  },
  {
   "metadata": {
    "ExecuteTime": {
     "end_time": "2024-07-01T21:06:37.871175Z",
     "start_time": "2024-07-01T21:06:37.866985Z"
    }
   },
   "cell_type": "code",
   "source": "3 / 4.",
   "id": "6f74fe1e6e14426a",
   "outputs": [
    {
     "data": {
      "text/plain": [
       "0.75"
      ]
     },
     "execution_count": 4,
     "metadata": {},
     "output_type": "execute_result"
    }
   ],
   "execution_count": 4
  },
  {
   "metadata": {},
   "cell_type": "markdown",
   "source": "rounds to integer",
   "id": "26675f0bcba9d797"
  },
  {
   "metadata": {
    "ExecuteTime": {
     "end_time": "2024-07-01T21:12:05.075799Z",
     "start_time": "2024-07-01T21:12:05.071868Z"
    }
   },
   "cell_type": "code",
   "source": "3 // 4",
   "id": "18a01ce1c605caca",
   "outputs": [
    {
     "data": {
      "text/plain": [
       "0"
      ]
     },
     "execution_count": 9,
     "metadata": {},
     "output_type": "execute_result"
    }
   ],
   "execution_count": 9
  },
  {
   "metadata": {
    "ExecuteTime": {
     "end_time": "2024-07-01T21:06:53.430152Z",
     "start_time": "2024-07-01T21:06:53.426029Z"
    }
   },
   "cell_type": "code",
   "source": "3 % 4",
   "id": "27a437fc737b4a90",
   "outputs": [
    {
     "data": {
      "text/plain": [
       "3"
      ]
     },
     "execution_count": 5,
     "metadata": {},
     "output_type": "execute_result"
    }
   ],
   "execution_count": 5
  },
  {
   "metadata": {
    "ExecuteTime": {
     "end_time": "2024-07-01T21:08:09.958965Z",
     "start_time": "2024-07-01T21:08:09.954994Z"
    }
   },
   "cell_type": "code",
   "source": "3 % 12 ",
   "id": "277650be0e5d84e5",
   "outputs": [
    {
     "data": {
      "text/plain": [
       "3"
      ]
     },
     "execution_count": 6,
     "metadata": {},
     "output_type": "execute_result"
    }
   ],
   "execution_count": 6
  },
  {
   "metadata": {
    "ExecuteTime": {
     "end_time": "2024-07-01T21:08:22.448037Z",
     "start_time": "2024-07-01T21:08:22.443940Z"
    }
   },
   "cell_type": "code",
   "source": "12 % 5",
   "id": "2d2f150ccd2e7f0",
   "outputs": [
    {
     "data": {
      "text/plain": [
       "2"
      ]
     },
     "execution_count": 8,
     "metadata": {},
     "output_type": "execute_result"
    }
   ],
   "execution_count": 8
  }
 ],
 "metadata": {
  "kernelspec": {
   "display_name": "Python 3",
   "language": "python",
   "name": "python3"
  },
  "language_info": {
   "codemirror_mode": {
    "name": "ipython",
    "version": 2
   },
   "file_extension": ".py",
   "mimetype": "text/x-python",
   "name": "python",
   "nbconvert_exporter": "python",
   "pygments_lexer": "ipython2",
   "version": "2.7.6"
  }
 },
 "nbformat": 4,
 "nbformat_minor": 5
}
