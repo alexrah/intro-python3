{
 "cells": [
  {
   "metadata": {},
   "cell_type": "markdown",
   "source": "[17-Create-Unique-Unordered-Collections-in-Python-with-Set.md](https://github.com/eggheadio-projects/introduction-to-the-python-3-programming-language-notes/blob/master/17-Create-Unique-Unordered-Collections-in-Python-with-Set.md)",
   "id": "e1808c15a7a9eb00"
  },
  {
   "cell_type": "code",
   "id": "initial_id",
   "metadata": {
    "collapsed": true,
    "ExecuteTime": {
     "end_time": "2024-07-02T22:35:43.753097Z",
     "start_time": "2024-07-02T22:35:43.746042Z"
    }
   },
   "source": [
    "list_with_duplicates = ['cat', 'dog', 'cat', 'dog', 'cat']\n",
    "print(list_with_duplicates)"
   ],
   "outputs": [
    {
     "name": "stdout",
     "output_type": "stream",
     "text": [
      "['cat', 'dog', 'cat', 'dog', 'cat']\n"
     ]
    }
   ],
   "execution_count": 1
  },
  {
   "metadata": {},
   "cell_type": "markdown",
   "source": "remove duplicates from a `list` by converting to `set` (and back to `list`)",
   "id": "ef8937187ccdcd83"
  },
  {
   "metadata": {
    "ExecuteTime": {
     "end_time": "2024-07-02T22:36:08.520849Z",
     "start_time": "2024-07-02T22:36:08.517637Z"
    }
   },
   "cell_type": "code",
   "source": "print(list(set(list_with_duplicates)))",
   "id": "8585349cf8820c62",
   "outputs": [
    {
     "name": "stdout",
     "output_type": "stream",
     "text": [
      "['dog', 'cat']\n"
     ]
    }
   ],
   "execution_count": 3
  },
  {
   "metadata": {},
   "cell_type": "markdown",
   "source": "create a `set`",
   "id": "305c76b3c3ef1ed4"
  },
  {
   "metadata": {
    "ExecuteTime": {
     "end_time": "2024-07-02T22:38:42.154166Z",
     "start_time": "2024-07-02T22:38:42.147325Z"
    }
   },
   "cell_type": "code",
   "source": [
    "my_set = {'cat', 'dog', 'cat', 'dog', 'cat'}\n",
    "my_set"
   ],
   "id": "c3d6c5408c518155",
   "outputs": [
    {
     "data": {
      "text/plain": [
       "{'cat', 'dog'}"
      ]
     },
     "execution_count": 5,
     "metadata": {},
     "output_type": "execute_result"
    }
   ],
   "execution_count": 5
  },
  {
   "metadata": {},
   "cell_type": "markdown",
   "source": "Merge 2 `set`",
   "id": "2b92112dfbc80a8a"
  },
  {
   "metadata": {
    "ExecuteTime": {
     "end_time": "2024-07-02T22:41:38.187273Z",
     "start_time": "2024-07-02T22:41:38.182919Z"
    }
   },
   "cell_type": "code",
   "source": [
    "fish = {'whale','shark'}\n",
    "fish.union(my_set)"
   ],
   "id": "8a1fe494a9e03756",
   "outputs": [
    {
     "data": {
      "text/plain": [
       "{'cat', 'dog', 'shark', 'whale'}"
      ]
     },
     "execution_count": 6,
     "metadata": {},
     "output_type": "execute_result"
    }
   ],
   "execution_count": 6
  }
 ],
 "metadata": {
  "kernelspec": {
   "display_name": "Python 3",
   "language": "python",
   "name": "python3"
  },
  "language_info": {
   "codemirror_mode": {
    "name": "ipython",
    "version": 2
   },
   "file_extension": ".py",
   "mimetype": "text/x-python",
   "name": "python",
   "nbconvert_exporter": "python",
   "pygments_lexer": "ipython2",
   "version": "2.7.6"
  }
 },
 "nbformat": 4,
 "nbformat_minor": 5
}
