{
 "cells": [
  {
   "cell_type": "code",
   "id": "initial_id",
   "metadata": {
    "collapsed": true,
    "ExecuteTime": {
     "end_time": "2024-07-01T21:36:50.497563Z",
     "start_time": "2024-07-01T21:36:49.405188Z"
    }
   },
   "source": [
    "x = int(input('Enter a number: '))\n",
    "\n",
    "if x < 0:\n",
    "  x = 0\n",
    "  print(\"negative value rectified to zero\")\n",
    "print(x)"
   ],
   "outputs": [
    {
     "name": "stdout",
     "output_type": "stream",
     "text": [
      "4\n"
     ]
    }
   ],
   "execution_count": 4
  },
  {
   "metadata": {
    "ExecuteTime": {
     "end_time": "2024-07-01T21:40:14.693371Z",
     "start_time": "2024-07-01T21:40:14.689031Z"
    }
   },
   "cell_type": "code",
   "source": [
    "for count in range(10,2,-1):\n",
    "  print(count)"
   ],
   "id": "5fdc39708b17c944",
   "outputs": [
    {
     "name": "stdout",
     "output_type": "stream",
     "text": [
      "10\n",
      "9\n",
      "8\n",
      "7\n",
      "6\n",
      "5\n",
      "4\n",
      "3\n"
     ]
    }
   ],
   "execution_count": 10
  },
  {
   "metadata": {
    "ExecuteTime": {
     "end_time": "2024-07-01T21:44:11.388058Z",
     "start_time": "2024-07-01T21:44:11.384557Z"
    }
   },
   "cell_type": "code",
   "source": "list(range(10))\n",
   "id": "a5a624f625dabc37",
   "outputs": [
    {
     "data": {
      "text/plain": [
       "[0, 1, 2, 3, 4, 5, 6, 7, 8, 9]"
      ]
     },
     "execution_count": 20,
     "metadata": {},
     "output_type": "execute_result"
    }
   ],
   "execution_count": 20
  },
  {
   "metadata": {
    "ExecuteTime": {
     "end_time": "2024-07-01T21:48:43.465100Z",
     "start_time": "2024-07-01T21:48:43.461246Z"
    }
   },
   "cell_type": "code",
   "source": [
    "pets = ['cat', 'dog', 'bird']\n",
    "for pet in pets:\n",
    "  print(pet)\n",
    "  # print(index)\n",
    "  # print(count)\n",
    "  \n",
    "  if pet == 'dog':\n",
    "    break\n",
    "  print(pet)\n",
    "    "
   ],
   "id": "2393532a23c9cf1d",
   "outputs": [
    {
     "name": "stdout",
     "output_type": "stream",
     "text": [
      "cat\n",
      "cat\n",
      "dog\n"
     ]
    }
   ],
   "execution_count": 25
  },
  {
   "metadata": {
    "ExecuteTime": {
     "end_time": "2024-07-01T22:20:43.350798Z",
     "start_time": "2024-07-01T22:20:43.347464Z"
    }
   },
   "cell_type": "code",
   "source": [
    "y = 0\n",
    "while y < 10:\n",
    "  print(y)\n",
    "  y += 1\n",
    "  "
   ],
   "id": "fceca2cd993f579",
   "outputs": [
    {
     "name": "stdout",
     "output_type": "stream",
     "text": [
      "0\n",
      "1\n",
      "2\n",
      "3\n",
      "4\n",
      "5\n",
      "6\n",
      "7\n",
      "8\n",
      "9\n"
     ]
    }
   ],
   "execution_count": 31
  },
  {
   "metadata": {
    "ExecuteTime": {
     "end_time": "2024-07-01T22:26:47.242833Z",
     "start_time": "2024-07-01T22:26:47.239342Z"
    }
   },
   "cell_type": "code",
   "source": [
    "def custom_iterator():\n",
    "  for i in range(10):\n",
    "    yield i\n",
    "\n",
    "for z in custom_iterator():\n",
    "  print(z)\n",
    "  "
   ],
   "id": "2cda7606024c1c99",
   "outputs": [
    {
     "name": "stdout",
     "output_type": "stream",
     "text": [
      "0\n",
      "1\n",
      "2\n",
      "3\n",
      "4\n",
      "5\n",
      "6\n",
      "7\n",
      "8\n",
      "9\n"
     ]
    }
   ],
   "execution_count": 37
  },
  {
   "metadata": {
    "ExecuteTime": {
     "end_time": "2024-07-01T22:50:16.466364Z",
     "start_time": "2024-07-01T22:50:16.460471Z"
    }
   },
   "cell_type": "code",
   "source": [
    "def to_upper(s:str) -> str:\n",
    "  return s.upper()\n",
    "\n",
    "print(list(map(lambda numb: numb.upper(),['one','two','three'])))\n",
    "print(\"-----\")\n",
    "list(map(to_upper,['one','two','three']))"
   ],
   "id": "b315c4c0c5f53ccf",
   "outputs": [
    {
     "name": "stdout",
     "output_type": "stream",
     "text": [
      "['ONE', 'TWO', 'THREE']\n",
      "-----\n"
     ]
    },
    {
     "data": {
      "text/plain": [
       "['ONE', 'TWO', 'THREE']"
      ]
     },
     "execution_count": 68,
     "metadata": {},
     "output_type": "execute_result"
    }
   ],
   "execution_count": 68
  }
 ],
 "metadata": {
  "kernelspec": {
   "display_name": "Python 3",
   "language": "python",
   "name": "python3"
  },
  "language_info": {
   "codemirror_mode": {
    "name": "ipython",
    "version": 2
   },
   "file_extension": ".py",
   "mimetype": "text/x-python",
   "name": "python",
   "nbconvert_exporter": "python",
   "pygments_lexer": "ipython2",
   "version": "2.7.6"
  }
 },
 "nbformat": 4,
 "nbformat_minor": 5
}
