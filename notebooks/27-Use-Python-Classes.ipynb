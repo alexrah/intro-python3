{
 "cells": [
  {
   "metadata": {},
   "cell_type": "markdown",
   "source": "[27-Use-Python-Classes.md](https://github.com/eggheadio-projects/introduction-to-the-python-3-programming-language-notes/blob/master/27-Use-Python-Classes.md)",
   "id": "290d8b38bc92a165"
  },
  {
   "metadata": {
    "ExecuteTime": {
     "end_time": "2024-07-07T21:12:04.264985Z",
     "start_time": "2024-07-07T21:12:04.258702Z"
    }
   },
   "cell_type": "code",
   "source": [
    "class Football:\n",
    "    def __init__(self, diameter, color, pressure):\n",
    "        self.diameter = diameter\n",
    "        self.color = color\n",
    "        self.pressure = pressure\n",
    "    def inflate(self,psi):\n",
    "        self.pressure += psi\n",
    "        print(self.pressure)\n",
    "    def deflate(self,psi):\n",
    "        self.pressure -= psi\n",
    "        print(self.pressure)\n",
    "\n",
    "\n",
    "my_ball = Football(2.5,'blue',100)\n",
    "print( [getattr(my_ball,prop) for prop in dir(my_ball) if not prop.startswith('__') and not callable(getattr(my_ball,prop))] )\n",
    "\n",
    "my_ball.inflate(100)\n",
    "my_ball.inflate(100)\n",
    "my_ball.deflate(300)\n"
   ],
   "id": "532c6d7203949cc0",
   "outputs": [
    {
     "name": "stdout",
     "output_type": "stream",
     "text": [
      "['blue', 2.5, 100]\n",
      "200\n",
      "300\n",
      "0\n"
     ]
    }
   ],
   "execution_count": 25
  },
  {
   "metadata": {
    "ExecuteTime": {
     "end_time": "2024-07-07T21:34:51.807191Z",
     "start_time": "2024-07-07T21:34:51.803085Z"
    }
   },
   "cell_type": "code",
   "source": [
    "class VolleyBall(Football):\n",
    "    def __init__(self, has_stripes, *args):\n",
    "        super().__init__(pressure=2, *args)\n",
    "        self.has_stripes = has_stripes\n",
    "    def print_stripes(self):\n",
    "        print(self.has_stripes)\n",
    "\n",
    "volley = VolleyBall(True,'red',100)\n",
    "volley.print_stripes()\n",
    "print(volley.diameter)"
   ],
   "id": "860cad2597f1ab6f",
   "outputs": [
    {
     "name": "stdout",
     "output_type": "stream",
     "text": [
      "True\n",
      "red\n"
     ]
    }
   ],
   "execution_count": 46
  }
 ],
 "metadata": {
  "kernelspec": {
   "display_name": "Python 3",
   "language": "python",
   "name": "python3"
  },
  "language_info": {
   "codemirror_mode": {
    "name": "ipython",
    "version": 2
   },
   "file_extension": ".py",
   "mimetype": "text/x-python",
   "name": "python",
   "nbconvert_exporter": "python",
   "pygments_lexer": "ipython2",
   "version": "2.7.6"
  }
 },
 "nbformat": 4,
 "nbformat_minor": 5
}
