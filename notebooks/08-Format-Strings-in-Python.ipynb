{
 "cells": [
  {
   "metadata": {},
   "cell_type": "markdown",
   "source": "[08-Format-Strings-in-Python.md](https://github.com/eggheadio-projects/introduction-to-the-python-3-programming-language-notes/blob/master/08-Format-Strings-in-Python.md)",
   "id": "1ae4bc2c66de61e3"
  },
  {
   "cell_type": "code",
   "id": "initial_id",
   "metadata": {
    "collapsed": true,
    "ExecuteTime": {
     "end_time": "2024-07-01T21:14:53.829986Z",
     "start_time": "2024-07-01T21:14:53.826893Z"
    }
   },
   "source": [
    "print(\"\"\"simple multi\n",
    "line string\"\"\")"
   ],
   "outputs": [
    {
     "name": "stdout",
     "output_type": "stream",
     "text": [
      "simple multi\n",
      "line string\n"
     ]
    }
   ],
   "execution_count": 2
  },
  {
   "metadata": {
    "ExecuteTime": {
     "end_time": "2024-07-01T21:16:39.655672Z",
     "start_time": "2024-07-01T21:16:39.652371Z"
    }
   },
   "cell_type": "code",
   "source": "print(\"My name is %s and I'm %i years old\" % ('Alex',42))",
   "id": "ff39145e10d52b96",
   "outputs": [
    {
     "name": "stdout",
     "output_type": "stream",
     "text": [
      "My name is Alex and I'm 42 years old\n"
     ]
    }
   ],
   "execution_count": 3
  },
  {
   "metadata": {
    "ExecuteTime": {
     "end_time": "2024-07-01T21:17:24.527608Z",
     "start_time": "2024-07-01T21:17:24.524429Z"
    }
   },
   "cell_type": "code",
   "source": "print(\"My name is {0} and I'm {1} years old\".format('Alex',42))\n",
   "id": "cb20120547b93b49",
   "outputs": [
    {
     "name": "stdout",
     "output_type": "stream",
     "text": [
      "My name is Alex and I'm 42 years old\n"
     ]
    }
   ],
   "execution_count": 5
  },
  {
   "metadata": {
    "ExecuteTime": {
     "end_time": "2024-07-01T21:18:09.486451Z",
     "start_time": "2024-07-01T21:18:09.483273Z"
    }
   },
   "cell_type": "code",
   "source": [
    "name = \"Alex\"\n",
    "age = 42\n",
    "print(f\"My name is {name} and I'm {age}\")"
   ],
   "id": "dfea0a15c4ed7a",
   "outputs": [
    {
     "name": "stdout",
     "output_type": "stream",
     "text": [
      "My name is Alex and I'm 42\n"
     ]
    }
   ],
   "execution_count": 6
  }
 ],
 "metadata": {
  "kernelspec": {
   "display_name": "Python 3",
   "language": "python",
   "name": "python3"
  },
  "language_info": {
   "codemirror_mode": {
    "name": "ipython",
    "version": 2
   },
   "file_extension": ".py",
   "mimetype": "text/x-python",
   "name": "python",
   "nbconvert_exporter": "python",
   "pygments_lexer": "ipython2",
   "version": "2.7.6"
  }
 },
 "nbformat": 4,
 "nbformat_minor": 5
}
