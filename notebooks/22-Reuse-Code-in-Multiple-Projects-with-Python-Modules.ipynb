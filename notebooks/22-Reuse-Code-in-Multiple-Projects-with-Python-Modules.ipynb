{
 "cells": [
  {
   "metadata": {},
   "cell_type": "markdown",
   "source": "[22-Reuse-Code-in-Multiple-Projects-with-Python-Modules.md](https://github.com/eggheadio-projects/introduction-to-the-python-3-programming-language-notes/blob/master/22-Reuse-Code-in-Multiple-Projects-with-Python-Modules.md)",
   "id": "a87685346df9829f"
  },
  {
   "metadata": {},
   "cell_type": "markdown",
   "source": "I want to import a module from ../tests folder, but first I need to check if that path is recognized by Python interpreter",
   "id": "f1b3637eb98c09c9"
  },
  {
   "metadata": {
    "ExecuteTime": {
     "end_time": "2024-07-07T11:46:27.727208Z",
     "start_time": "2024-07-07T11:46:27.720846Z"
    }
   },
   "cell_type": "code",
   "source": [
    "import sys\n",
    "\n",
    "from tests import simple_module\n",
    "\n",
    "print(sys.path)"
   ],
   "id": "1e8a602b8dfcdd95",
   "outputs": [
    {
     "name": "stdout",
     "output_type": "stream",
     "text": [
      "['/Users/ale/Projects/Python/introToPython', '/usr/local/Cellar/python@3.11/3.11.9/Frameworks/Python.framework/Versions/3.11/lib/python311.zip', '/usr/local/Cellar/python@3.11/3.11.9/Frameworks/Python.framework/Versions/3.11/lib/python3.11', '/usr/local/Cellar/python@3.11/3.11.9/Frameworks/Python.framework/Versions/3.11/lib/python3.11/lib-dynload', '', '/Users/ale/Projects/Python/introToPython/.venv/lib/python3.11/site-packages']\n"
     ]
    }
   ],
   "execution_count": 1
  },
  {
   "metadata": {},
   "cell_type": "markdown",
   "source": "project root is in sys.path, therefore I can import a relative module like so",
   "id": "422880160cd866b0"
  },
  {
   "metadata": {
    "ExecuteTime": {
     "end_time": "2024-07-07T11:57:26.802798Z",
     "start_time": "2024-07-07T11:57:26.799665Z"
    }
   },
   "cell_type": "code",
   "source": [
    "from tests.simple_module import add_vat\n",
    "print(add_vat(10))\n"
   ],
   "id": "fa6e54fabfd666ad",
   "outputs": [
    {
     "name": "stdout",
     "output_type": "stream",
     "text": [
      "12.2\n"
     ]
    }
   ],
   "execution_count": 12
  },
  {
   "metadata": {},
   "cell_type": "markdown",
   "source": "the following will throw an error:",
   "id": "ac5605377399b26e"
  },
  {
   "metadata": {
    "ExecuteTime": {
     "end_time": "2024-07-07T11:52:47.550986Z",
     "start_time": "2024-07-07T11:52:47.535626Z"
    }
   },
   "cell_type": "code",
   "source": [
    "import tests.simple_module\n",
    "print(simple_module.add_vat(10))"
   ],
   "id": "c8c155dbeddb0604",
   "outputs": [
    {
     "ename": "NameError",
     "evalue": "name 'simple_module' is not defined",
     "output_type": "error",
     "traceback": [
      "\u001B[0;31m---------------------------------------------------------------------------\u001B[0m",
      "\u001B[0;31mNameError\u001B[0m                                 Traceback (most recent call last)",
      "Cell \u001B[0;32mIn[7], line 2\u001B[0m\n\u001B[1;32m      1\u001B[0m \u001B[38;5;28;01mimport\u001B[39;00m \u001B[38;5;21;01mtests\u001B[39;00m\u001B[38;5;21;01m.\u001B[39;00m\u001B[38;5;21;01msimple_module\u001B[39;00m\n\u001B[0;32m----> 2\u001B[0m \u001B[38;5;28mprint\u001B[39m(\u001B[43msimple_module\u001B[49m\u001B[38;5;241m.\u001B[39madd_vat(\u001B[38;5;241m10\u001B[39m))\n",
      "\u001B[0;31mNameError\u001B[0m: name 'simple_module' is not defined"
     ]
    }
   ],
   "execution_count": 7
  },
  {
   "metadata": {},
   "cell_type": "code",
   "outputs": [],
   "execution_count": null,
   "source": "",
   "id": "84ba86b39b02ea73"
  }
 ],
 "metadata": {
  "kernelspec": {
   "display_name": "Python 3",
   "language": "python",
   "name": "python3"
  },
  "language_info": {
   "codemirror_mode": {
    "name": "ipython",
    "version": 2
   },
   "file_extension": ".py",
   "mimetype": "text/x-python",
   "name": "python",
   "nbconvert_exporter": "python",
   "pygments_lexer": "ipython2",
   "version": "2.7.6"
  }
 },
 "nbformat": 4,
 "nbformat_minor": 5
}
