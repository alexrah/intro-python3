{
 "cells": [
  {
   "metadata": {},
   "cell_type": "markdown",
   "source": [
    "[25-Handle-Exceptions-to-prevent-crashes-in-Python.md](https://github.com/eggheadio-projects/introduction-to-the-python-3-programming-language-notes/blob/master/25-Handle-Exceptions-to-prevent-crashes-in-Python.md)\n",
    "\n",
    "[Built-in Exceptions](https://docs.python.org/3/library/exceptions.html)"
   ],
   "id": "f8fa3a82b6d8ae96"
  },
  {
   "metadata": {
    "ExecuteTime": {
     "end_time": "2024-07-07T20:35:40.592125Z",
     "start_time": "2024-07-07T20:35:40.544560Z"
    }
   },
   "cell_type": "code",
   "source": "print(int('foo'))",
   "id": "4bb9fcca832b95fc",
   "outputs": [
    {
     "ename": "ValueError",
     "evalue": "invalid literal for int() with base 10: 'foo'",
     "output_type": "error",
     "traceback": [
      "\u001B[0;31m---------------------------------------------------------------------------\u001B[0m",
      "\u001B[0;31mValueError\u001B[0m                                Traceback (most recent call last)",
      "Cell \u001B[0;32mIn[15], line 1\u001B[0m\n\u001B[0;32m----> 1\u001B[0m \u001B[38;5;28mprint\u001B[39m(\u001B[38;5;28;43mint\u001B[39;49m\u001B[43m(\u001B[49m\u001B[38;5;124;43m'\u001B[39;49m\u001B[38;5;124;43mfoo\u001B[39;49m\u001B[38;5;124;43m'\u001B[39;49m\u001B[43m)\u001B[49m)\n",
      "\u001B[0;31mValueError\u001B[0m: invalid literal for int() with base 10: 'foo'"
     ]
    }
   ],
   "execution_count": 15
  },
  {
   "metadata": {
    "ExecuteTime": {
     "end_time": "2024-07-07T20:36:19.056192Z",
     "start_time": "2024-07-07T20:36:19.052954Z"
    }
   },
   "cell_type": "code",
   "source": "print(int('10')/int('2'))",
   "id": "be94417d888ec53f",
   "outputs": [
    {
     "name": "stdout",
     "output_type": "stream",
     "text": [
      "5.0\n"
     ]
    }
   ],
   "execution_count": 23
  },
  {
   "metadata": {
    "ExecuteTime": {
     "end_time": "2024-07-07T20:36:22.263552Z",
     "start_time": "2024-07-07T20:36:20.070041Z"
    }
   },
   "cell_type": "code",
   "source": [
    "value_first = input('First value: ')\n",
    "value_second = input('Second value: ')\n",
    "\n",
    "try:\n",
    "  print( int(value_first) / int(value_second) )\n",
    "except Exception as e:\n",
    "  print(e)\n",
    "  print('Please enter a valid number.')\n"
   ],
   "id": "7d9f6e983351b96",
   "outputs": [
    {
     "name": "stdout",
     "output_type": "stream",
     "text": [
      "5.0\n"
     ]
    }
   ],
   "execution_count": 24
  },
  {
   "metadata": {
    "ExecuteTime": {
     "end_time": "2024-07-07T20:37:29.536598Z",
     "start_time": "2024-07-07T20:37:26.587003Z"
    }
   },
   "cell_type": "code",
   "source": [
    "value_first = input('First value: ')\n",
    "value_second = input('Second value: ')\n",
    "\n",
    "try:\n",
    "  print( int(value_first) / int(value_second) )\n",
    "except ValueError as e:\n",
    "  print(e)\n",
    "  print('Please enter a valid number.')\n",
    "except ZeroDivisionError as e:\n",
    "  print(e)\n",
    "  print('You can\\'t divide by zero.')"
   ],
   "id": "7c60ed029dbfc6d",
   "outputs": [
    {
     "name": "stdout",
     "output_type": "stream",
     "text": [
      "invalid literal for int() with base 10: 'foo'\n",
      "Please enter a valid number.\n"
     ]
    }
   ],
   "execution_count": 26
  }
 ],
 "metadata": {
  "kernelspec": {
   "display_name": "Python 3",
   "language": "python",
   "name": "python3"
  },
  "language_info": {
   "codemirror_mode": {
    "name": "ipython",
    "version": 2
   },
   "file_extension": ".py",
   "mimetype": "text/x-python",
   "name": "python",
   "nbconvert_exporter": "python",
   "pygments_lexer": "ipython2",
   "version": "2.7.6"
  }
 },
 "nbformat": 4,
 "nbformat_minor": 5
}
