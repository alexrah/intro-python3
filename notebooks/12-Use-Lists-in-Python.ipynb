{
 "cells": [
  {
   "metadata": {},
   "cell_type": "markdown",
   "source": "[12-Use-Lists-in-Python.md](https://github.com/eggheadio-projects/introduction-to-the-python-3-programming-language-notes/blob/master/12-Use-Lists-in-Python.md)",
   "id": "6d29655e9e4eb4f8"
  },
  {
   "cell_type": "code",
   "id": "initial_id",
   "metadata": {
    "collapsed": true,
    "ExecuteTime": {
     "end_time": "2024-07-02T01:05:28.694014Z",
     "start_time": "2024-07-02T01:05:28.690150Z"
    }
   },
   "source": [
    "pets = ['dog', 'cat', 'mouse', 'rabbit']\n",
    "for index,pet in enumerate(pets):\n",
    "  print(index,pet)"
   ],
   "outputs": [
    {
     "name": "stdout",
     "output_type": "stream",
     "text": [
      "0 dog\n",
      "1 cat\n",
      "2 mouse\n",
      "3 rabbit\n"
     ]
    }
   ],
   "execution_count": 2
  },
  {
   "metadata": {
    "ExecuteTime": {
     "end_time": "2024-07-02T01:10:32.312965Z",
     "start_time": "2024-07-02T01:10:32.309654Z"
    }
   },
   "cell_type": "code",
   "source": [
    "for pet in pets:\n",
    "  print(pet)"
   ],
   "id": "dfcdebd34d8035",
   "outputs": [
    {
     "name": "stdout",
     "output_type": "stream",
     "text": [
      "dog\n",
      "cat\n",
      "mouse\n",
      "rabbit\n"
     ]
    }
   ],
   "execution_count": 6
  },
  {
   "metadata": {
    "ExecuteTime": {
     "end_time": "2024-07-02T01:32:44.108250Z",
     "start_time": "2024-07-02T01:32:44.101089Z"
    }
   },
   "cell_type": "code",
   "source": "list(range(5))",
   "id": "75a346bb3d8e9c7e",
   "outputs": [
    {
     "data": {
      "text/plain": [
       "[0, 1, 2, 3, 4]"
      ]
     },
     "execution_count": 7,
     "metadata": {},
     "output_type": "execute_result"
    }
   ],
   "execution_count": 7
  },
  {
   "metadata": {
    "ExecuteTime": {
     "end_time": "2024-07-02T01:36:58.887054Z",
     "start_time": "2024-07-02T01:36:58.883831Z"
    }
   },
   "cell_type": "code",
   "source": [
    "pets.insert(0,'bird')\n",
    "print(pets)"
   ],
   "id": "e02b25511d403634",
   "outputs": [
    {
     "name": "stdout",
     "output_type": "stream",
     "text": [
      "['bird', 'dog', 'cat', 'mouse', 'rabbit']\n"
     ]
    }
   ],
   "execution_count": 31
  },
  {
   "metadata": {
    "ExecuteTime": {
     "end_time": "2024-07-02T01:37:01.202589Z",
     "start_time": "2024-07-02T01:37:01.199511Z"
    }
   },
   "cell_type": "code",
   "source": [
    "pets.remove('bird')\n",
    "print(pets)"
   ],
   "id": "11360541d3bf6434",
   "outputs": [
    {
     "name": "stdout",
     "output_type": "stream",
     "text": [
      "['dog', 'cat', 'mouse', 'rabbit']\n"
     ]
    }
   ],
   "execution_count": 32
  }
 ],
 "metadata": {
  "kernelspec": {
   "display_name": "Python 3",
   "language": "python",
   "name": "python3"
  },
  "language_info": {
   "codemirror_mode": {
    "name": "ipython",
    "version": 2
   },
   "file_extension": ".py",
   "mimetype": "text/x-python",
   "name": "python",
   "nbconvert_exporter": "python",
   "pygments_lexer": "ipython2",
   "version": "2.7.6"
  }
 },
 "nbformat": 4,
 "nbformat_minor": 5
}
