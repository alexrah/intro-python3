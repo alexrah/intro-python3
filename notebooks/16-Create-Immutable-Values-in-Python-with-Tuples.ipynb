{
 "cells": [
  {
   "metadata": {},
   "cell_type": "markdown",
   "source": "[16-Create-Immutable-Values-in-Python-with-Tuples.md](https://github.com/eggheadio-projects/introduction-to-the-python-3-programming-language-notes/blob/master/16-Create-Immutable-Values-in-Python-with-Tuples.md)",
   "id": "5dc0cf7497293a75"
  },
  {
   "cell_type": "code",
   "id": "initial_id",
   "metadata": {
    "collapsed": true,
    "ExecuteTime": {
     "end_time": "2024-07-02T22:26:24.781921Z",
     "start_time": "2024-07-02T22:26:24.777290Z"
    }
   },
   "source": [
    "my_tuple =  'ercole','nerina','milo',12231\n",
    "print(my_tuple.index('ercole'))\n",
    "print(my_tuple.count('milo'))"
   ],
   "outputs": [
    {
     "name": "stdout",
     "output_type": "stream",
     "text": [
      "0\n",
      "1\n"
     ]
    }
   ],
   "execution_count": 16
  },
  {
   "metadata": {},
   "cell_type": "markdown",
   "source": [
    "#### since tuples are immutable, to append a value:\n",
    " * first convert in a list by spreading all values with * (splat operator)\n",
    " * add more values\n",
    " * then reconvert to tuple\n",
    "\n",
    "using `id()` to check `my_tuple` has changed to a different object"
   ],
   "id": "d82dae8c83bd2aef"
  },
  {
   "metadata": {
    "ExecuteTime": {
     "end_time": "2024-07-02T22:30:59.532273Z",
     "start_time": "2024-07-02T22:30:59.528949Z"
    }
   },
   "cell_type": "code",
   "source": [
    "print(id(my_tuple))\n",
    "my_tuple = tuple(list([*my_tuple,'foo']))\n",
    "print(my_tuple)\n",
    "print(id(my_tuple))"
   ],
   "id": "5511c3501a054673",
   "outputs": [
    {
     "name": "stdout",
     "output_type": "stream",
     "text": [
      "4475244928\n",
      "('ercole', 'nerina', 'milo', 12231, 'foo', 'foo', 'foo')\n",
      "4475245312\n"
     ]
    }
   ],
   "execution_count": 19
  },
  {
   "metadata": {
    "ExecuteTime": {
     "end_time": "2024-07-03T01:21:08.633280Z",
     "start_time": "2024-07-03T01:21:08.628664Z"
    }
   },
   "cell_type": "code",
   "source": [
    "my_const = 2,\n",
    "print(my_const)\n",
    "my_const[0]"
   ],
   "id": "c8190ba6482cee7e",
   "outputs": [
    {
     "name": "stdout",
     "output_type": "stream",
     "text": [
      "(2,)\n"
     ]
    },
    {
     "data": {
      "text/plain": [
       "2"
      ]
     },
     "execution_count": 3,
     "metadata": {},
     "output_type": "execute_result"
    }
   ],
   "execution_count": 3
  }
 ],
 "metadata": {
  "kernelspec": {
   "display_name": "Python 3",
   "language": "python",
   "name": "python3"
  },
  "language_info": {
   "codemirror_mode": {
    "name": "ipython",
    "version": 2
   },
   "file_extension": ".py",
   "mimetype": "text/x-python",
   "name": "python",
   "nbconvert_exporter": "python",
   "pygments_lexer": "ipython2",
   "version": "2.7.6"
  }
 },
 "nbformat": 4,
 "nbformat_minor": 5
}
