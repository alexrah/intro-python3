{
 "cells": [
  {
   "metadata": {},
   "cell_type": "markdown",
   "source": "[20-Read-Input-in-Python-from-the-Console.md](https://github.com/eggheadio-projects/introduction-to-the-python-3-programming-language-notes/blob/master/20-Read-Input-in-Python-from-the-Console.md)",
   "id": "3584aaa78e17dcce"
  },
  {
   "metadata": {},
   "cell_type": "markdown",
   "source": "Keep asking to enter a number until input is a valid one ",
   "id": "10d1d94e7bf68439"
  },
  {
   "metadata": {
    "ExecuteTime": {
     "end_time": "2024-07-06T00:25:33.256136Z",
     "start_time": "2024-07-06T00:25:30.229386Z"
    }
   },
   "cell_type": "code",
   "source": [
    "while True:\n",
    "  random_num = input('Enter a random number: ')\n",
    "  if random_num.isnumeric():\n",
    "    print('Your random number is: ', random_num)\n",
    "    break\n",
    "  else:\n",
    "    print(\"Retry\")"
   ],
   "id": "dc3bc0bc6cd4c33e",
   "outputs": [
    {
     "name": "stdout",
     "output_type": "stream",
     "text": [
      "Retry\n",
      "Your random number is:  12\n"
     ]
    }
   ],
   "execution_count": 6
  },
  {
   "metadata": {},
   "cell_type": "markdown",
   "source": "check if input contains a specific string",
   "id": "fca773282ed4490e"
  },
  {
   "metadata": {
    "ExecuteTime": {
     "end_time": "2024-07-06T14:34:18.184815Z",
     "start_time": "2024-07-06T14:34:09.142266Z"
    }
   },
   "cell_type": "code",
   "source": [
    "valid_answers = ['y','yes','n','no']\n",
    "\n",
    "while True:\n",
    "  answer = input('Would you like to try again? (y/n): ')\n",
    "  if answer in valid_answers:\n",
    "    if answer in ['y','yes']:\n",
    "      print('Thanks for playing!')\n",
    "    if answer in ['n','no']:\n",
    "      print('Sorry to see you go!')\n",
    "      break\n",
    "  else:\n",
    "    print('Sorry we don\\'t understand that. Please try again.')\n",
    "    "
   ],
   "id": "a275a71e9dc88aac",
   "outputs": [
    {
     "name": "stdout",
     "output_type": "stream",
     "text": [
      "Sorry we don't understand that. Please try again.\n",
      "Thanks for playing!\n",
      "Sorry to see you go!\n"
     ]
    }
   ],
   "execution_count": 1
  }
 ],
 "metadata": {
  "kernelspec": {
   "display_name": "Python 3",
   "language": "python",
   "name": "python3"
  },
  "language_info": {
   "codemirror_mode": {
    "name": "ipython",
    "version": 2
   },
   "file_extension": ".py",
   "mimetype": "text/x-python",
   "name": "python",
   "nbconvert_exporter": "python",
   "pygments_lexer": "ipython2",
   "version": "2.7.6"
  }
 },
 "nbformat": 4,
 "nbformat_minor": 5
}
