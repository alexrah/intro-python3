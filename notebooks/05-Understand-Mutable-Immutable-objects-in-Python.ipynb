{
 "cells": [
  {
   "metadata": {},
   "cell_type": "markdown",
   "source": [
    "[05-Understand-Mutable-Immutable-objects-in-Python.md](https://github.com/eggheadio-projects/introduction-to-the-python-3-programming-language-notes/blob/master/05-Understand-Mutable-Immutable-objects-in-Python.md)\n",
    "\n",
    "## How We Know If an Object is Mutable\n",
    "\n",
    "As mentioned in lesson 04, everything in Python has an id and a value. We can use the `id()` function to determine the `ID` of an item.\n"
   ],
   "id": "a6754f08257bcf99"
  },
  {
   "metadata": {
    "ExecuteTime": {
     "end_time": "2024-07-01T15:23:02.665178Z",
     "start_time": "2024-07-01T15:23:02.656175Z"
    }
   },
   "cell_type": "code",
   "source": [
    "b = []\n",
    "id(b)"
   ],
   "id": "4ca0c621a8c7b131",
   "outputs": [
    {
     "data": {
      "text/plain": [
       "4589900352"
      ]
     },
     "execution_count": 1,
     "metadata": {},
     "output_type": "execute_result"
    }
   ],
   "execution_count": 1
  },
  {
   "metadata": {},
   "cell_type": "markdown",
   "source": "Now to see how `ID`'s play a part in mutability, lets append a number to the `b` list. ",
   "id": "9f405aff5ebfab1e"
  },
  {
   "metadata": {
    "ExecuteTime": {
     "end_time": "2024-07-01T15:23:57.931034Z",
     "start_time": "2024-07-01T15:23:57.926423Z"
    }
   },
   "cell_type": "code",
   "source": [
    "b.append(1)\n",
    "id(b)"
   ],
   "id": "662ca10231a72a24",
   "outputs": [
    {
     "data": {
      "text/plain": [
       "4589900352"
      ]
     },
     "execution_count": 2,
     "metadata": {},
     "output_type": "execute_result"
    }
   ],
   "execution_count": 2
  },
  {
   "metadata": {},
   "cell_type": "markdown",
   "source": [
    "We see that the same `ID` was returned for `b` eventhough it's been changed. This means that the list object in Python is mutable, and the same is true for dictionaries.\n",
    "\n",
    "**So any object that returns the same `ID` value even after it's been altered in some way is *mutable***\n",
    "\n",
    "## How We Know If an Object is Immutable\n",
    "\n",
    "The process for checking if an object is immutable is the same. Again use the `id()` function to check the initial `ID` of an item. This time, try it on a variable set equal to a number."
   ],
   "id": "3d31192c3cb16fda"
  },
  {
   "metadata": {
    "ExecuteTime": {
     "end_time": "2024-07-01T15:25:35.077648Z",
     "start_time": "2024-07-01T15:25:35.073700Z"
    }
   },
   "cell_type": "code",
   "source": [
    "b = 2\n",
    "id(b)"
   ],
   "id": "de439c786cb13edc",
   "outputs": [
    {
     "data": {
      "text/plain": [
       "4545072936"
      ]
     },
     "execution_count": 3,
     "metadata": {},
     "output_type": "execute_result"
    }
   ],
   "execution_count": 3
  },
  {
   "metadata": {},
   "cell_type": "markdown",
   "source": "Now perform some sort of operation to change that variable and use `id()` to check the current `ID` of the variable.",
   "id": "60794374b690122c"
  },
  {
   "metadata": {
    "ExecuteTime": {
     "end_time": "2024-07-01T15:25:48.235327Z",
     "start_time": "2024-07-01T15:25:48.231283Z"
    }
   },
   "cell_type": "code",
   "source": [
    "b = 2 + 1\n",
    "id(b)"
   ],
   "id": "8502a6e0d19e1338",
   "outputs": [
    {
     "data": {
      "text/plain": [
       "4545072968"
      ]
     },
     "execution_count": 4,
     "metadata": {},
     "output_type": "execute_result"
    }
   ],
   "execution_count": 4
  },
  {
   "metadata": {},
   "cell_type": "markdown",
   "source": [
    "You'll notice that now `id(a)` returns a different `ID` for `a`. This is because integers are immutable. So immutable objects, however, can't be altered.\n",
    "\n",
    "**Immutable objects in Python include strings, integers, and tuples.**"
   ],
   "id": "21e20388b2b3d691"
  }
 ],
 "metadata": {
  "kernelspec": {
   "display_name": "Python 3",
   "language": "python",
   "name": "python3"
  },
  "language_info": {
   "codemirror_mode": {
    "name": "ipython",
    "version": 2
   },
   "file_extension": ".py",
   "mimetype": "text/x-python",
   "name": "python",
   "nbconvert_exporter": "python",
   "pygments_lexer": "ipython2",
   "version": "2.7.6"
  }
 },
 "nbformat": 4,
 "nbformat_minor": 5
}
