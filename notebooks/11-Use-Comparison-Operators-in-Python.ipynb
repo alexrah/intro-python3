{
 "cells": [
  {
   "metadata": {},
   "cell_type": "markdown",
   "source": "[11-Use-Comparison-Operators-in-Python.md](https://github.com/eggheadio-projects/introduction-to-the-python-3-programming-language-notes/blob/master/11-Use-Comparison-Operators-in-Python.md)",
   "id": "13265b20de161b87"
  },
  {
   "metadata": {
    "ExecuteTime": {
     "end_time": "2024-07-02T00:57:58.710121Z",
     "start_time": "2024-07-02T00:57:58.701764Z"
    }
   },
   "cell_type": "code",
   "source": "5 == 5",
   "id": "9985bc0a266e620d",
   "outputs": [
    {
     "data": {
      "text/plain": [
       "True"
      ]
     },
     "execution_count": 1,
     "metadata": {},
     "output_type": "execute_result"
    }
   ],
   "execution_count": 1
  },
  {
   "metadata": {
    "ExecuteTime": {
     "end_time": "2024-07-02T00:58:11.760154Z",
     "start_time": "2024-07-02T00:58:11.756034Z"
    }
   },
   "cell_type": "code",
   "source": "5 != 5",
   "id": "3c97ba2357f4d045",
   "outputs": [
    {
     "data": {
      "text/plain": [
       "False"
      ]
     },
     "execution_count": 2,
     "metadata": {},
     "output_type": "execute_result"
    }
   ],
   "execution_count": 2
  },
  {
   "metadata": {
    "ExecuteTime": {
     "end_time": "2024-07-02T00:58:49.299136Z",
     "start_time": "2024-07-02T00:58:49.295372Z"
    }
   },
   "cell_type": "code",
   "source": "1 < 2 < 5",
   "id": "587c5a0e4376275a",
   "outputs": [
    {
     "data": {
      "text/plain": [
       "True"
      ]
     },
     "execution_count": 4,
     "metadata": {},
     "output_type": "execute_result"
    }
   ],
   "execution_count": 4
  },
  {
   "metadata": {
    "ExecuteTime": {
     "end_time": "2024-07-02T00:59:27.129726Z",
     "start_time": "2024-07-02T00:59:27.126208Z"
    }
   },
   "cell_type": "code",
   "source": "5 > 1 and 6 < 10",
   "id": "bd966ecd59938a78",
   "outputs": [
    {
     "data": {
      "text/plain": [
       "True"
      ]
     },
     "execution_count": 6,
     "metadata": {},
     "output_type": "execute_result"
    }
   ],
   "execution_count": 6
  },
  {
   "metadata": {
    "ExecuteTime": {
     "end_time": "2024-07-02T01:00:01.710205Z",
     "start_time": "2024-07-02T01:00:01.706052Z"
    }
   },
   "cell_type": "code",
   "source": "1 == 1 or 3 > 5",
   "id": "e3e4f5ebf4c8446",
   "outputs": [
    {
     "data": {
      "text/plain": [
       "True"
      ]
     },
     "execution_count": 9,
     "metadata": {},
     "output_type": "execute_result"
    }
   ],
   "execution_count": 9
  },
  {
   "metadata": {
    "ExecuteTime": {
     "end_time": "2024-07-02T01:00:19.848313Z",
     "start_time": "2024-07-02T01:00:19.844620Z"
    }
   },
   "cell_type": "code",
   "source": "isinstance(5,int)",
   "id": "9827905cbf54732",
   "outputs": [
    {
     "data": {
      "text/plain": [
       "True"
      ]
     },
     "execution_count": 10,
     "metadata": {},
     "output_type": "execute_result"
    }
   ],
   "execution_count": 10
  },
  {
   "metadata": {
    "ExecuteTime": {
     "end_time": "2024-07-02T01:00:29.977242Z",
     "start_time": "2024-07-02T01:00:29.972905Z"
    }
   },
   "cell_type": "code",
   "source": "isinstance(1,str)",
   "id": "5b2c9ba9e00e1e74",
   "outputs": [
    {
     "data": {
      "text/plain": [
       "False"
      ]
     },
     "execution_count": 11,
     "metadata": {},
     "output_type": "execute_result"
    }
   ],
   "execution_count": 11
  },
  {
   "metadata": {
    "ExecuteTime": {
     "end_time": "2024-07-02T01:01:16.713843Z",
     "start_time": "2024-07-02T01:01:16.709791Z"
    }
   },
   "cell_type": "code",
   "source": [
    "foo = 3\n",
    "bar = 3\n",
    "foo is bar"
   ],
   "id": "bf844862783d6ad7",
   "outputs": [
    {
     "data": {
      "text/plain": [
       "True"
      ]
     },
     "execution_count": 13,
     "metadata": {},
     "output_type": "execute_result"
    }
   ],
   "execution_count": 13
  },
  {
   "metadata": {
    "ExecuteTime": {
     "end_time": "2024-07-02T01:01:47.859459Z",
     "start_time": "2024-07-02T01:01:47.855589Z"
    }
   },
   "cell_type": "code",
   "source": [
    "x = list(range(3))\n",
    "2 in x"
   ],
   "id": "cd71dfeadc45bd95",
   "outputs": [
    {
     "data": {
      "text/plain": [
       "True"
      ]
     },
     "execution_count": 17,
     "metadata": {},
     "output_type": "execute_result"
    }
   ],
   "execution_count": 17
  }
 ],
 "metadata": {
  "kernelspec": {
   "display_name": "Python 3",
   "language": "python",
   "name": "python3"
  },
  "language_info": {
   "codemirror_mode": {
    "name": "ipython",
    "version": 2
   },
   "file_extension": ".py",
   "mimetype": "text/x-python",
   "name": "python",
   "nbconvert_exporter": "python",
   "pygments_lexer": "ipython2",
   "version": "2.7.6"
  }
 },
 "nbformat": 4,
 "nbformat_minor": 5
}
