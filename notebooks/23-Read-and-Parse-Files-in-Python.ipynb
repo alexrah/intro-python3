{
 "cells": [
  {
   "metadata": {},
   "cell_type": "markdown",
   "source": "[23-Read-and-Parse-Files-in-Python.md](https://github.com/eggheadio-projects/introduction-to-the-python-3-programming-language-notes/blob/master/23-Read-and-Parse-Files-in-Python.md)",
   "id": "1fc7216fce2a518e"
  },
  {
   "metadata": {
    "ExecuteTime": {
     "end_time": "2024-07-07T12:06:05.761790Z",
     "start_time": "2024-07-07T12:06:05.754719Z"
    }
   },
   "cell_type": "code",
   "source": [
    "ads = open('../data/ads.csv','r')\n",
    "for line in ads:\n",
    "  print(line)\n",
    "  \n",
    "ads.close()"
   ],
   "id": "4b2986a0ac0ca4da",
   "outputs": [
    {
     "name": "stdout",
     "output_type": "stream",
     "text": [
      "Order,Line item,Line item type,Order ID,Line item ID,Deal ID,Line item start time,Line item end time,Automatic extension days,Duration,Status,Reservation status,Unit type,Cost type,Rate,Value cost per unit ,Goal quantity,Contracted quantity,Budget,Line item lifetime impressions,Line item lifetime clicks,Line item priority,Frequency cap,Delivery pacing,Companion delivery option,Placement targeting,Ad unit targeting,Excluded ad units,Custom targeting,Targeted locations,Excluded locations,Targeted sizes,Number of creatives,Creative rotation type,Line item lifetime viewable impressions,External Line item ID,Non-delivery causes\n",
      "\n",
      "Federmanager 2023,320x100 SN HP M 0,Sponsorizzazione,3209422955,6312034992,,\"May 29, 2023 03:04:00 PM\",\"June 01, 2023 11:59:00 PM\",0,Ogni giorno,Completata,Riservata,Impressioni,CPM,0,0,100,0,0,581,0,4,-,Uniforme,Sconosciuto,-,ca-pub-4497435727402902 > VN_BIGLB0-MOB,-,\"(sito = \"\"saronnonews.it\"\" AND Sezione = \"\"home\"\")\",,,320x100,1,Uniforme,0,,-\n",
      "\n",
      "Bike & Walk 2023,300x250 HP M 1 + D 2 - 50%,Sponsorizzazione,3212978835,6312604794,,\"May 30, 2023 01:52:00 PM\",\"June 07, 2023 11:59:00 PM\",0,Ogni giorno,Completata,Riservata,Impressioni,CPM,0,0,50,0,0,284185,250,4,-,Uniforme,Sconosciuto,-,\"ca-pub-4497435727402902 > VN_MR2, ca-pub-4497435727402902 > VN_MR1-MOB\",-,\"(sito = \"\"varesenews\"\" AND Sezione = \"\"home\"\")\",,,300x250,1,Uniforme,0,,-\n",
      "\n",
      "Federmanager 2023,320x100 BU+GA+VA  M 0 - 50%,Sponsorizzazione,3209422955,6312969245,,\"May 29, 2023 12:00:00 AM\",\"June 01, 2023 11:59:00 PM\",0,Ogni giorno,Completata,Riservata,Impressioni,CPM,0,0,50,0,0,341727,89,4,-,Uniforme,Sconosciuto,-,ca-pub-4497435727402902 > VN_BIGLB0-MOB,-,\"(sito = \"\"varesenews\"\" AND (Sezione = \"\"varese-laghi\"\" OR Sezione = \"\"busto arsizio\"\" OR Sezione = \"\"busto-arsizio-alto-milanese\"\" OR Sezione = \"\"gallarate-malpensa\"\"))\",,,320x100,1,Uniforme,0,,-\n",
      "\n",
      "Studio risarcimenti 2023,320x100 VA M LB1,Sponsorizzazione,3205731055,6312973436,,\"May 29, 2023 12:00:00 AM\",\"May 29, 2023 11:59:00 PM\",0,Ogni giorno,Completata,Riservata,Impressioni,CPM,0,0,100,0,0,174164,184,4,-,Uniforme,Sconosciuto,-,ca-pub-4497435727402902 > VN_LB1-MOB,-,\"(sito = \"\"varesenews\"\" AND Sezione = \"\"varese-laghi\"\")\",,,320x100,1,Uniforme,0,,-\n",
      "\n",
      "Bike & Walk 2023,300x250 TL M 1 + D 1,Sponsorizzazione,3212978835,6314708281,,\"May 30, 2023 12:57:00 PM\",\"June 07, 2023 11:59:00 PM\",0,Ogni giorno,Completata,Riservata,Impressioni,CPM,0,0,100,0,0,143638,294,4,-,Uniforme,Sconosciuto,-,\"ca-pub-4497435727402902 > VN_MR1-MOB, ca-pub-4497435727402902 > VN_MR1\",-,\"(sito = \"\"varesenews\"\" AND Sezione = \"\"tempo-libero\"\")\",,,300x250,1,Uniforme,0,,-\n",
      "\n",
      "Bike & Walk 2023,300x250 VA D 1 - 50%,Sponsorizzazione,3212978835,6314729161,,\"May 30, 2023 01:45:00 PM\",\"June 07, 2023 11:59:00 PM\",0,Ogni giorno,Completata,Riservata,Impressioni,CPM,0,0,50,0,0,16462,6,4,-,Uniforme,Sconosciuto,-,ca-pub-4497435727402902 > VN_MR1,-,\"(sito = \"\"varesenews\"\" AND Sezione = \"\"varese-laghi\"\")\",,,300x250,1,Uniforme,0,,-\n",
      "\n",
      "Speciale Estate nel Varesotto 2023,300x250 HP D 3 + M 4,Sponsorizzazione,3211196077,6314797420,,\"May 30, 2023 03:21:00 PM\",\"July 16, 2023 11:59:00 PM\",0,Ogni giorno,Completata,Riservata,Impressioni,CPM,0,0,100,0,0,3515939,1207,4,-,Uniforme,Sconosciuto,-,\"ca-pub-4497435727402902 > VN_MR3, ca-pub-4497435727402902 > VN_MR4-MOB\",-,\"(sito = \"\"varesenews\"\" AND Sezione = \"\"home\"\")\",,,300x250,1,Uniforme,0,,-\n",
      "\n",
      "Speciale Estate nel Varesotto 2023,300x250 VA D 4,Sponsorizzazione,3211196077,6314804359,,\"May 30, 2023 03:28:00 PM\",\"August 31, 2023 11:59:00 PM\",0,Ogni giorno,Completata,Riservata,Impressioni,CPM,0,0,100,0,0,501682,305,4,-,Uniforme,Sconosciuto,-,ca-pub-4497435727402902 > VN_MR4,-,\"(sito = \"\"varesenews\"\" AND Sezione = \"\"varese-laghi\"\")\",,,300x250,1,Uniforme,0,,-\n",
      "\n",
      "Speciale Estate nel Varesotto 2023,300x250 TL M 2 + D 2,Sponsorizzazione,3211196077,6314811982,,\"May 30, 2023 03:32:00 PM\",\"August 31, 2023 11:59:00 PM\",0,Ogni giorno,Completata,Riservata,Impressioni,CPM,0,0,100,0,0,1221775,2226,4,-,Uniforme,Sconosciuto,-,\"ca-pub-4497435727402902 > VN_MR2-MOB, ca-pub-4497435727402902 > VN_MR2\",-,\"(sito = \"\"varesenews\"\" AND Sezione = \"\"tempo-libero\"\")\",,,300x250,1,Uniforme,0,,-\n",
      "\n",
      "ArciGay 2023,320x100 BU M 0,Sponsorizzazione,3212328361,6315203403,,\"June 01, 2023 03:15:00 PM\",\"October 12, 2023 11:59:00 PM\",0,Ogni giorno,Completata,Riservata,Impressioni,CPM,0,0,100,0,0,148506,148,4,-,Uniforme,Sconosciuto,-,ca-pub-4497435727402902 > VN_BIGLB0-MOB,-,\"(sito = \"\"varesenews\"\" AND (Sezione = \"\"busto arsizio\"\" OR Sezione = \"\"busto-arsizio-alto-milanese\"\"))\",,,320x100,1,Uniforme,0,,-\n",
      "\n",
      "ArciGay 2023,300x250 VA M 2 - 50%,Sponsorizzazione,3212328361,6315204384,,\"June 05, 2023 12:00:00 AM\",\"October 23, 2023 11:59:00 PM\",0,Ogni giorno,Completata,Riservata,Impressioni,CPM,0,0,50,0,0,352170,663,4,-,Uniforme,Sconosciuto,-,ca-pub-4497435727402902 > VN_MR2-MOB,-,\"(Sezione = \"\"varese-laghi\"\" AND sito = \"\"varesenews\"\")\",,,300x250,1,Uniforme,0,,-\n",
      "\n",
      "Bike & Walk 2023,300x250 VA M 1 - 50%,Sponsorizzazione,3212978835,6315308873,,\"May 30, 2023 01:39:00 PM\",\"June 07, 2023 11:59:00 PM\",0,Ogni giorno,Completata,Riservata,Impressioni,CPM,0,0,50,0,0,199420,330,4,-,Uniforme,Sconosciuto,-,ca-pub-4497435727402902 > VN_MR1-MOB,-,\"(sito = \"\"varesenews\"\" AND Sezione = \"\"varese-laghi\"\")\",,,300x250,1,Uniforme,0,,-\n",
      "\n",
      "Speciale Estate nel Varesotto 2023,300x250 VA M 3 - 50%,Sponsorizzazione,3211196077,6315380555,,\"May 30, 2023 03:28:00 PM\",\"August 31, 2023 11:59:00 PM\",0,Ogni giorno,Completata,Riservata,Impressioni,CPM,0,0,50,0,0,1790601,1813,4,-,Uniforme,Sconosciuto,-,ca-pub-4497435727402902 > VN_MR3-MOB,-,\"(sito = \"\"varesenews\"\" AND Sezione = \"\"varese-laghi\"\")\",,,300x250,1,Uniforme,0,,-\n",
      "\n",
      "Arcobaleno 2023,300x250 HP D 1 - 50%,Sponsorizzazione,3195165078,6315948652,,\"June 05, 2023 12:00:00 AM\",\"December 10, 2023 11:59:00 PM\",0,Ogni giorno,Completata,Riservata,Impressioni,CPM,0,0,50,0,0,477216,115,4,-,Uniforme,Sconosciuto,-,ca-pub-4497435727402902 > VN_MR1,-,\"(sito = \"\"varesenews\"\" AND Sezione = \"\"home\"\")\",,,300x250,1,Uniforme,0,,-\n",
      "\n",
      "Speciale Estate nel Varesotto 2023,300x250 VN riempimento,Autopromozionale,3211196077,6315987304,,\"May 31, 2023 12:59:00 PM\",\"August 31, 2023 09:06:00 AM\",0,Ogni giorno,Completata,Non riservato,Impressioni,CPM,0,0,100,0,0,21613063,816,16,-,Uniforme,Sconosciuto,-,ca-pub-4497435727402902,-,\"sito = \"\"varesenews\"\"\",,,300x250,1,Uniforme,0,,-\n",
      "\n",
      "Costruzioni Edili Fontana 2023,300x250 N24 M 1 - 50%,Sponsorizzazione,3212480627,6317949059,,\"June 05, 2023 12:00:00 AM\",\"October 16, 2023 11:59:00 PM\",0,Ogni giorno,Completata,Riservata,Impressioni,CPM,0,0,50,0,0,34368,93,4,-,Uniforme,Sconosciuto,-,ca-pub-4497435727402902 > VN_MR1-MOB,-,\"(sito = \"\"varesenews\"\" AND (Sezione = \"\"N24\"\" OR Sezione = \"\"news 24\"\"))\",,,300x250,1,Uniforme,0,,-\n",
      "\n",
      "ArciGay 2023,320x100 SA M 0,Sponsorizzazione,3212328361,6318117324,,\"June 06, 2023 12:00:00 AM\",\"October 10, 2023 08:44:00 AM\",0,Ogni giorno,Completata,Riservata,Impressioni,CPM,0,0,100,0,0,9068,2,4,-,Uniforme,Sconosciuto,-,ca-pub-4497435727402902 > VN_BIGLB0-MOB,-,\"(sito = \"\"varesenews\"\" AND Sezione = \"\"saronno-tradate\"\")\",,,320x100,1,Uniforme,0,,-\n",
      "\n",
      "Coppa del mondo Canottaggio 2023,728x90 HP D 1.5 - 50%,Sponsorizzazione,3214171651,6318203931,,\"June 05, 2023 03:10:00 PM\",\"June 19, 2023 11:59:00 PM\",0,Ogni giorno,Completata,Riservata,Impressioni,CPM,0,0,50,0,0,238223,82,4,-,Uniforme,Sconosciuto,-,ca-pub-4497435727402902 > LB_DESK_1.5,-,\"(sito = \"\"varesenews\"\" AND Sezione = \"\"home\"\")\",,,728x90,1,Uniforme,0,,-\n",
      "\n",
      "Presscomm 2023,Intro Mobile 06/23 - MalpensaNews,Standard,3137850600,6318846918,,\"June 12, 2023 12:00:00 AM\",\"June 25, 2023 11:59:00 PM\",0,Intera durata,Completata,Riservata,Impressioni,CPM,0,0,25000,0,0,18649,0,8,-,Uniforme,Sconosciuto,-,ca-pub-4497435727402902 > VN_MOB_INTRO_INTERSTITIAL,-,\"sito = \"\"malpensanews.it\"\"\",,,300x250,1,Uniforme,0,,-\n",
      "\n"
     ]
    }
   ],
   "execution_count": 1
  },
  {
   "metadata": {},
   "cell_type": "markdown",
   "source": "With blocks are great because they automatically close the file once the code is done executing. So you don't have to explicitly call the close method.",
   "id": "36dd429b59e8d4a6"
  },
  {
   "metadata": {
    "ExecuteTime": {
     "end_time": "2024-07-07T12:07:45.957396Z",
     "start_time": "2024-07-07T12:07:45.953361Z"
    }
   },
   "cell_type": "code",
   "source": [
    "with open('../data/ads.csv','r') as ads:\n",
    "  print(ads.read())\n"
   ],
   "id": "a4c6f583f50b47d6",
   "outputs": [
    {
     "name": "stdout",
     "output_type": "stream",
     "text": [
      "Order,Line item,Line item type,Order ID,Line item ID,Deal ID,Line item start time,Line item end time,Automatic extension days,Duration,Status,Reservation status,Unit type,Cost type,Rate,Value cost per unit ,Goal quantity,Contracted quantity,Budget,Line item lifetime impressions,Line item lifetime clicks,Line item priority,Frequency cap,Delivery pacing,Companion delivery option,Placement targeting,Ad unit targeting,Excluded ad units,Custom targeting,Targeted locations,Excluded locations,Targeted sizes,Number of creatives,Creative rotation type,Line item lifetime viewable impressions,External Line item ID,Non-delivery causes\n",
      "Federmanager 2023,320x100 SN HP M 0,Sponsorizzazione,3209422955,6312034992,,\"May 29, 2023 03:04:00 PM\",\"June 01, 2023 11:59:00 PM\",0,Ogni giorno,Completata,Riservata,Impressioni,CPM,0,0,100,0,0,581,0,4,-,Uniforme,Sconosciuto,-,ca-pub-4497435727402902 > VN_BIGLB0-MOB,-,\"(sito = \"\"saronnonews.it\"\" AND Sezione = \"\"home\"\")\",,,320x100,1,Uniforme,0,,-\n",
      "Bike & Walk 2023,300x250 HP M 1 + D 2 - 50%,Sponsorizzazione,3212978835,6312604794,,\"May 30, 2023 01:52:00 PM\",\"June 07, 2023 11:59:00 PM\",0,Ogni giorno,Completata,Riservata,Impressioni,CPM,0,0,50,0,0,284185,250,4,-,Uniforme,Sconosciuto,-,\"ca-pub-4497435727402902 > VN_MR2, ca-pub-4497435727402902 > VN_MR1-MOB\",-,\"(sito = \"\"varesenews\"\" AND Sezione = \"\"home\"\")\",,,300x250,1,Uniforme,0,,-\n",
      "Federmanager 2023,320x100 BU+GA+VA  M 0 - 50%,Sponsorizzazione,3209422955,6312969245,,\"May 29, 2023 12:00:00 AM\",\"June 01, 2023 11:59:00 PM\",0,Ogni giorno,Completata,Riservata,Impressioni,CPM,0,0,50,0,0,341727,89,4,-,Uniforme,Sconosciuto,-,ca-pub-4497435727402902 > VN_BIGLB0-MOB,-,\"(sito = \"\"varesenews\"\" AND (Sezione = \"\"varese-laghi\"\" OR Sezione = \"\"busto arsizio\"\" OR Sezione = \"\"busto-arsizio-alto-milanese\"\" OR Sezione = \"\"gallarate-malpensa\"\"))\",,,320x100,1,Uniforme,0,,-\n",
      "Studio risarcimenti 2023,320x100 VA M LB1,Sponsorizzazione,3205731055,6312973436,,\"May 29, 2023 12:00:00 AM\",\"May 29, 2023 11:59:00 PM\",0,Ogni giorno,Completata,Riservata,Impressioni,CPM,0,0,100,0,0,174164,184,4,-,Uniforme,Sconosciuto,-,ca-pub-4497435727402902 > VN_LB1-MOB,-,\"(sito = \"\"varesenews\"\" AND Sezione = \"\"varese-laghi\"\")\",,,320x100,1,Uniforme,0,,-\n",
      "Bike & Walk 2023,300x250 TL M 1 + D 1,Sponsorizzazione,3212978835,6314708281,,\"May 30, 2023 12:57:00 PM\",\"June 07, 2023 11:59:00 PM\",0,Ogni giorno,Completata,Riservata,Impressioni,CPM,0,0,100,0,0,143638,294,4,-,Uniforme,Sconosciuto,-,\"ca-pub-4497435727402902 > VN_MR1-MOB, ca-pub-4497435727402902 > VN_MR1\",-,\"(sito = \"\"varesenews\"\" AND Sezione = \"\"tempo-libero\"\")\",,,300x250,1,Uniforme,0,,-\n",
      "Bike & Walk 2023,300x250 VA D 1 - 50%,Sponsorizzazione,3212978835,6314729161,,\"May 30, 2023 01:45:00 PM\",\"June 07, 2023 11:59:00 PM\",0,Ogni giorno,Completata,Riservata,Impressioni,CPM,0,0,50,0,0,16462,6,4,-,Uniforme,Sconosciuto,-,ca-pub-4497435727402902 > VN_MR1,-,\"(sito = \"\"varesenews\"\" AND Sezione = \"\"varese-laghi\"\")\",,,300x250,1,Uniforme,0,,-\n",
      "Speciale Estate nel Varesotto 2023,300x250 HP D 3 + M 4,Sponsorizzazione,3211196077,6314797420,,\"May 30, 2023 03:21:00 PM\",\"July 16, 2023 11:59:00 PM\",0,Ogni giorno,Completata,Riservata,Impressioni,CPM,0,0,100,0,0,3515939,1207,4,-,Uniforme,Sconosciuto,-,\"ca-pub-4497435727402902 > VN_MR3, ca-pub-4497435727402902 > VN_MR4-MOB\",-,\"(sito = \"\"varesenews\"\" AND Sezione = \"\"home\"\")\",,,300x250,1,Uniforme,0,,-\n",
      "Speciale Estate nel Varesotto 2023,300x250 VA D 4,Sponsorizzazione,3211196077,6314804359,,\"May 30, 2023 03:28:00 PM\",\"August 31, 2023 11:59:00 PM\",0,Ogni giorno,Completata,Riservata,Impressioni,CPM,0,0,100,0,0,501682,305,4,-,Uniforme,Sconosciuto,-,ca-pub-4497435727402902 > VN_MR4,-,\"(sito = \"\"varesenews\"\" AND Sezione = \"\"varese-laghi\"\")\",,,300x250,1,Uniforme,0,,-\n",
      "Speciale Estate nel Varesotto 2023,300x250 TL M 2 + D 2,Sponsorizzazione,3211196077,6314811982,,\"May 30, 2023 03:32:00 PM\",\"August 31, 2023 11:59:00 PM\",0,Ogni giorno,Completata,Riservata,Impressioni,CPM,0,0,100,0,0,1221775,2226,4,-,Uniforme,Sconosciuto,-,\"ca-pub-4497435727402902 > VN_MR2-MOB, ca-pub-4497435727402902 > VN_MR2\",-,\"(sito = \"\"varesenews\"\" AND Sezione = \"\"tempo-libero\"\")\",,,300x250,1,Uniforme,0,,-\n",
      "ArciGay 2023,320x100 BU M 0,Sponsorizzazione,3212328361,6315203403,,\"June 01, 2023 03:15:00 PM\",\"October 12, 2023 11:59:00 PM\",0,Ogni giorno,Completata,Riservata,Impressioni,CPM,0,0,100,0,0,148506,148,4,-,Uniforme,Sconosciuto,-,ca-pub-4497435727402902 > VN_BIGLB0-MOB,-,\"(sito = \"\"varesenews\"\" AND (Sezione = \"\"busto arsizio\"\" OR Sezione = \"\"busto-arsizio-alto-milanese\"\"))\",,,320x100,1,Uniforme,0,,-\n",
      "ArciGay 2023,300x250 VA M 2 - 50%,Sponsorizzazione,3212328361,6315204384,,\"June 05, 2023 12:00:00 AM\",\"October 23, 2023 11:59:00 PM\",0,Ogni giorno,Completata,Riservata,Impressioni,CPM,0,0,50,0,0,352170,663,4,-,Uniforme,Sconosciuto,-,ca-pub-4497435727402902 > VN_MR2-MOB,-,\"(Sezione = \"\"varese-laghi\"\" AND sito = \"\"varesenews\"\")\",,,300x250,1,Uniforme,0,,-\n",
      "Bike & Walk 2023,300x250 VA M 1 - 50%,Sponsorizzazione,3212978835,6315308873,,\"May 30, 2023 01:39:00 PM\",\"June 07, 2023 11:59:00 PM\",0,Ogni giorno,Completata,Riservata,Impressioni,CPM,0,0,50,0,0,199420,330,4,-,Uniforme,Sconosciuto,-,ca-pub-4497435727402902 > VN_MR1-MOB,-,\"(sito = \"\"varesenews\"\" AND Sezione = \"\"varese-laghi\"\")\",,,300x250,1,Uniforme,0,,-\n",
      "Speciale Estate nel Varesotto 2023,300x250 VA M 3 - 50%,Sponsorizzazione,3211196077,6315380555,,\"May 30, 2023 03:28:00 PM\",\"August 31, 2023 11:59:00 PM\",0,Ogni giorno,Completata,Riservata,Impressioni,CPM,0,0,50,0,0,1790601,1813,4,-,Uniforme,Sconosciuto,-,ca-pub-4497435727402902 > VN_MR3-MOB,-,\"(sito = \"\"varesenews\"\" AND Sezione = \"\"varese-laghi\"\")\",,,300x250,1,Uniforme,0,,-\n",
      "Arcobaleno 2023,300x250 HP D 1 - 50%,Sponsorizzazione,3195165078,6315948652,,\"June 05, 2023 12:00:00 AM\",\"December 10, 2023 11:59:00 PM\",0,Ogni giorno,Completata,Riservata,Impressioni,CPM,0,0,50,0,0,477216,115,4,-,Uniforme,Sconosciuto,-,ca-pub-4497435727402902 > VN_MR1,-,\"(sito = \"\"varesenews\"\" AND Sezione = \"\"home\"\")\",,,300x250,1,Uniforme,0,,-\n",
      "Speciale Estate nel Varesotto 2023,300x250 VN riempimento,Autopromozionale,3211196077,6315987304,,\"May 31, 2023 12:59:00 PM\",\"August 31, 2023 09:06:00 AM\",0,Ogni giorno,Completata,Non riservato,Impressioni,CPM,0,0,100,0,0,21613063,816,16,-,Uniforme,Sconosciuto,-,ca-pub-4497435727402902,-,\"sito = \"\"varesenews\"\"\",,,300x250,1,Uniforme,0,,-\n",
      "Costruzioni Edili Fontana 2023,300x250 N24 M 1 - 50%,Sponsorizzazione,3212480627,6317949059,,\"June 05, 2023 12:00:00 AM\",\"October 16, 2023 11:59:00 PM\",0,Ogni giorno,Completata,Riservata,Impressioni,CPM,0,0,50,0,0,34368,93,4,-,Uniforme,Sconosciuto,-,ca-pub-4497435727402902 > VN_MR1-MOB,-,\"(sito = \"\"varesenews\"\" AND (Sezione = \"\"N24\"\" OR Sezione = \"\"news 24\"\"))\",,,300x250,1,Uniforme,0,,-\n",
      "ArciGay 2023,320x100 SA M 0,Sponsorizzazione,3212328361,6318117324,,\"June 06, 2023 12:00:00 AM\",\"October 10, 2023 08:44:00 AM\",0,Ogni giorno,Completata,Riservata,Impressioni,CPM,0,0,100,0,0,9068,2,4,-,Uniforme,Sconosciuto,-,ca-pub-4497435727402902 > VN_BIGLB0-MOB,-,\"(sito = \"\"varesenews\"\" AND Sezione = \"\"saronno-tradate\"\")\",,,320x100,1,Uniforme,0,,-\n",
      "Coppa del mondo Canottaggio 2023,728x90 HP D 1.5 - 50%,Sponsorizzazione,3214171651,6318203931,,\"June 05, 2023 03:10:00 PM\",\"June 19, 2023 11:59:00 PM\",0,Ogni giorno,Completata,Riservata,Impressioni,CPM,0,0,50,0,0,238223,82,4,-,Uniforme,Sconosciuto,-,ca-pub-4497435727402902 > LB_DESK_1.5,-,\"(sito = \"\"varesenews\"\" AND Sezione = \"\"home\"\")\",,,728x90,1,Uniforme,0,,-\n",
      "Presscomm 2023,Intro Mobile 06/23 - MalpensaNews,Standard,3137850600,6318846918,,\"June 12, 2023 12:00:00 AM\",\"June 25, 2023 11:59:00 PM\",0,Intera durata,Completata,Riservata,Impressioni,CPM,0,0,25000,0,0,18649,0,8,-,Uniforme,Sconosciuto,-,ca-pub-4497435727402902 > VN_MOB_INTRO_INTERSTITIAL,-,\"sito = \"\"malpensanews.it\"\"\",,,300x250,1,Uniforme,0,,-\n",
      "\n"
     ]
    }
   ],
   "execution_count": 2
  },
  {
   "metadata": {},
   "cell_type": "markdown",
   "source": "parse CSV",
   "id": "4a364bdb496ba490"
  },
  {
   "metadata": {
    "ExecuteTime": {
     "end_time": "2024-07-07T12:11:12.223215Z",
     "start_time": "2024-07-07T12:11:12.219169Z"
    }
   },
   "cell_type": "code",
   "source": [
    "import csv\n",
    "with open('../data/ads.csv','r') as ads_csv:\n",
    "  ads_rows = csv.reader(ads_csv)\n",
    "  for row in ads_rows:\n",
    "    print(f\"Order Name: {row[0]}\")"
   ],
   "id": "af10137f7605620d",
   "outputs": [
    {
     "name": "stdout",
     "output_type": "stream",
     "text": [
      "Order Name: Order\n",
      "Order Name: Federmanager 2023\n",
      "Order Name: Bike & Walk 2023\n",
      "Order Name: Federmanager 2023\n",
      "Order Name: Studio risarcimenti 2023\n",
      "Order Name: Bike & Walk 2023\n",
      "Order Name: Bike & Walk 2023\n",
      "Order Name: Speciale Estate nel Varesotto 2023\n",
      "Order Name: Speciale Estate nel Varesotto 2023\n",
      "Order Name: Speciale Estate nel Varesotto 2023\n",
      "Order Name: ArciGay 2023\n",
      "Order Name: ArciGay 2023\n",
      "Order Name: Bike & Walk 2023\n",
      "Order Name: Speciale Estate nel Varesotto 2023\n",
      "Order Name: Arcobaleno 2023\n",
      "Order Name: Speciale Estate nel Varesotto 2023\n",
      "Order Name: Costruzioni Edili Fontana 2023\n",
      "Order Name: ArciGay 2023\n",
      "Order Name: Coppa del mondo Canottaggio 2023\n",
      "Order Name: Presscomm 2023\n"
     ]
    }
   ],
   "execution_count": 3
  },
  {
   "metadata": {},
   "cell_type": "markdown",
   "source": "Parse CSV with Header row",
   "id": "a9d18ee4acbef975"
  },
  {
   "metadata": {
    "ExecuteTime": {
     "end_time": "2024-07-07T12:13:10.441591Z",
     "start_time": "2024-07-07T12:13:10.420333Z"
    }
   },
   "cell_type": "code",
   "source": [
    "import csv\n",
    "with open('../data/ads.csv','r') as ads_csv:\n",
    "  ads_csv = csv.DictReader(ads_csv)\n",
    "  for row in ads_csv:\n",
    "    print(row['Order'])"
   ],
   "id": "4b6487cbb42edabc",
   "outputs": [
    {
     "name": "stdout",
     "output_type": "stream",
     "text": [
      "Federmanager 2023\n",
      "Bike & Walk 2023\n",
      "Federmanager 2023\n",
      "Studio risarcimenti 2023\n",
      "Bike & Walk 2023\n",
      "Bike & Walk 2023\n",
      "Speciale Estate nel Varesotto 2023\n",
      "Speciale Estate nel Varesotto 2023\n",
      "Speciale Estate nel Varesotto 2023\n",
      "ArciGay 2023\n",
      "ArciGay 2023\n",
      "Bike & Walk 2023\n",
      "Speciale Estate nel Varesotto 2023\n",
      "Arcobaleno 2023\n",
      "Speciale Estate nel Varesotto 2023\n",
      "Costruzioni Edili Fontana 2023\n",
      "ArciGay 2023\n",
      "Coppa del mondo Canottaggio 2023\n",
      "Presscomm 2023\n"
     ]
    }
   ],
   "execution_count": 7
  }
 ],
 "metadata": {
  "kernelspec": {
   "display_name": "Python 3",
   "language": "python",
   "name": "python3"
  },
  "language_info": {
   "codemirror_mode": {
    "name": "ipython",
    "version": 2
   },
   "file_extension": ".py",
   "mimetype": "text/x-python",
   "name": "python",
   "nbconvert_exporter": "python",
   "pygments_lexer": "ipython2",
   "version": "2.7.6"
  }
 },
 "nbformat": 4,
 "nbformat_minor": 5
}
