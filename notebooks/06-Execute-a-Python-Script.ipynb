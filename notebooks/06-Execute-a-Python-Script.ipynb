{
 "cells": [
  {
   "metadata": {},
   "cell_type": "markdown",
   "source": [
    "# [Execute a Python Script](https://egghead.io/lessons/python-execute-a-python-script)\n",
    "\n",
    "## Creating and Executing a Script\n",
    "\n",
    "You can create a script by making a python file in your preferred text editor. If you type the `print \"Hello World\"` for Python 2 or `print(\"Hello World\")` for python three, this what you see you execute the script in your command line...\n",
    "\n",
    "### Python 3\n",
    "\n",
    "```bash\n",
    "python3 file_name.py\n",
    "\n",
    "Hello World\n",
    "```\n",
    "\n",
    "## Stand-alone Executable Script\n",
    "\n",
    "To make a stand-alone executable script, use the following in your Python file.\n",
    "\n",
    "```python\n",
    "#! /usr/bin/env python\n",
    "\n",
    "print(\"Hello world\")\n",
    "```\n",
    "\n",
    "The important part here is the top line of code which includes `userbin env` which is directed to the Python environment.\n",
    "\n",
    "Type the following in your command line to execute your new script.\n",
    "\n",
    "```bash\n",
    "chmod +x hello.py\n",
    "./hello.py\n",
    "\n",
    "Hello world\n",
    "```\n"
   ],
   "id": "524efe374649712a"
  },
  {
   "metadata": {},
   "cell_type": "code",
   "outputs": [],
   "execution_count": null,
   "source": "",
   "id": "9f2035b4111adb45"
  }
 ],
 "metadata": {
  "kernelspec": {
   "display_name": "Python 3",
   "language": "python",
   "name": "python3"
  },
  "language_info": {
   "codemirror_mode": {
    "name": "ipython",
    "version": 2
   },
   "file_extension": ".py",
   "mimetype": "text/x-python",
   "name": "python",
   "nbconvert_exporter": "python",
   "pygments_lexer": "ipython2",
   "version": "2.7.6"
  }
 },
 "nbformat": 4,
 "nbformat_minor": 5
}
