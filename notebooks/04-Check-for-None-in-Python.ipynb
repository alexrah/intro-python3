{
 "cells": [
  {
   "metadata": {},
   "cell_type": "markdown",
   "source": "[04-Check-for-None-in-Python.md](https://github.com/eggheadio-projects/introduction-to-the-python-3-programming-language-notes/blob/master/04-Check-for-None-in-Python.md)",
   "id": "3a1878fb5a0d9238"
  },
  {
   "cell_type": "markdown",
   "id": "6e910ef0a7cfac6",
   "metadata": {},
   "source": [
    "Null in Python is represented as `None`."
   ]
  },
  {
   "cell_type": "code",
   "execution_count": 21,
   "id": "initial_id",
   "metadata": {
    "ExecuteTime": {
     "end_time": "2024-07-01T23:09:54.699426Z",
     "start_time": "2024-07-01T23:09:54.696831Z"
    },
    "collapsed": true,
    "jupyter": {
     "outputs_hidden": true
    }
   },
   "outputs": [],
   "source": [
    "foo = None"
   ]
  },
  {
   "cell_type": "code",
   "execution_count": 22,
   "id": "fdcc9c41072d2d2e",
   "metadata": {
    "ExecuteTime": {
     "end_time": "2024-07-01T23:09:55.776249Z",
     "start_time": "2024-07-01T23:09:55.772752Z"
    }
   },
   "outputs": [
    {
     "name": "stdout",
     "output_type": "stream",
     "text": [
      "It's a None\n"
     ]
    }
   ],
   "source": [
    "if foo is None:\n",
    "  print(\"It's a None\")\n",
    "else:\n",
    "  print(\"It's something else\")"
   ]
  },
  {
   "cell_type": "markdown",
   "id": "a01ccd24d61dd7de",
   "metadata": {},
   "source": [
    "We could also check by doing if `foo == None.`"
   ]
  },
  {
   "cell_type": "code",
   "execution_count": 19,
   "id": "8d4a0e5d59cecf64",
   "metadata": {
    "ExecuteTime": {
     "end_time": "2024-07-01T23:09:07.593700Z",
     "start_time": "2024-07-01T23:09:07.590524Z"
    }
   },
   "outputs": [
    {
     "name": "stdout",
     "output_type": "stream",
     "text": [
      "It's still a None\n"
     ]
    }
   ],
   "source": [
    "if foo == None:\n",
    "  print(\"It's still a None\")"
   ]
  },
  {
   "cell_type": "markdown",
   "id": "5b3db0c7a995c75a",
   "metadata": {},
   "source": [
    "Even though both mehtods give us the same results, it's better to use the is operator because it's faster. Why is is faster?\n",
    "\n",
    "Everything in Python has an ID and a value. We can see this by looking at the results of id(foo)."
   ]
  },
  {
   "cell_type": "code",
   "execution_count": null,
   "id": "5f2005e2-da97-416a-92e3-09da67015b0c",
   "metadata": {
    "ExecuteTime": {
     "end_time": "2024-07-01T23:09:07.601010Z",
     "start_time": "2024-07-01T23:09:07.595775Z"
    }
   },
   "outputs": [],
   "source": [
    "id(foo)"
   ]
  },
  {
   "cell_type": "markdown",
   "id": "d852c5c2b283eff5",
   "metadata": {},
   "source": [
    "This is important because the `is` operator does an ID comparison while == does a dict look up and has to iterate through each item in that dict to do the comparison. This means that `is` is faster."
   ]
  }
 ],
 "metadata": {
  "kernelspec": {
   "display_name": "Python 3 (ipykernel)",
   "language": "python",
   "name": "python3"
  },
  "language_info": {
   "codemirror_mode": {
    "name": "ipython",
    "version": 3
   },
   "file_extension": ".py",
   "mimetype": "text/x-python",
   "name": "python",
   "nbconvert_exporter": "python",
   "pygments_lexer": "ipython3",
   "version": "3.11.9"
  }
 },
 "nbformat": 4,
 "nbformat_minor": 5
}
