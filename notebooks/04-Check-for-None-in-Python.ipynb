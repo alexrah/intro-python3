{
 "cells": [
  {
   "metadata": {},
   "cell_type": "markdown",
   "source": "Null in Python is represented as `None`.",
   "id": "6e910ef0a7cfac6"
  },
  {
   "cell_type": "code",
   "id": "initial_id",
   "metadata": {
    "collapsed": true,
    "ExecuteTime": {
     "end_time": "2024-07-01T15:07:06.866185Z",
     "start_time": "2024-07-01T15:07:06.863295Z"
    }
   },
   "source": "foo = None",
   "outputs": [],
   "execution_count": 13
  },
  {
   "metadata": {
    "ExecuteTime": {
     "end_time": "2024-07-01T15:07:06.876252Z",
     "start_time": "2024-07-01T15:07:06.873089Z"
    }
   },
   "cell_type": "code",
   "source": [
    "if foo is None:\n",
    "  print(\"It's a None\")\n",
    "else:\n",
    "  print(\"It's something else\")"
   ],
   "id": "fdcc9c41072d2d2e",
   "outputs": [
    {
     "name": "stdout",
     "output_type": "stream",
     "text": [
      "It's a None\n"
     ]
    }
   ],
   "execution_count": 14
  },
  {
   "metadata": {},
   "cell_type": "markdown",
   "source": "We could also check by doing if `foo == None.`",
   "id": "a01ccd24d61dd7de"
  },
  {
   "metadata": {
    "ExecuteTime": {
     "end_time": "2024-07-01T15:08:55.856264Z",
     "start_time": "2024-07-01T15:08:55.853711Z"
    }
   },
   "cell_type": "code",
   "source": [
    "if foo == None:\n",
    "  print(\"It's still a None\")"
   ],
   "id": "8d4a0e5d59cecf64",
   "outputs": [
    {
     "name": "stdout",
     "output_type": "stream",
     "text": [
      "It's still a None\n"
     ]
    }
   ],
   "execution_count": 15
  },
  {
   "metadata": {},
   "cell_type": "markdown",
   "source": [
    "Even though both mehtods give us the same results, it's better to use the is operator because it's faster. Why is is faster?\n",
    "\n",
    "Everything in Python has an ID and a value. We can see this by looking at the results of id(foo)."
   ],
   "id": "5b3db0c7a995c75a"
  },
  {
   "metadata": {
    "ExecuteTime": {
     "end_time": "2024-07-01T15:09:35.556777Z",
     "start_time": "2024-07-01T15:09:35.550463Z"
    }
   },
   "cell_type": "code",
   "source": "id(foo)",
   "id": "53bb6674f1038898",
   "outputs": [
    {
     "data": {
      "text/plain": [
       "4421970192"
      ]
     },
     "execution_count": 16,
     "metadata": {},
     "output_type": "execute_result"
    }
   ],
   "execution_count": 16
  },
  {
   "metadata": {},
   "cell_type": "markdown",
   "source": "This is important because the is operator does an ID comparison while == does a dict look up and has to iterate through each item in that dict to do the comparison. This means that `is` is faster.",
   "id": "d852c5c2b283eff5"
  }
 ],
 "metadata": {
  "kernelspec": {
   "display_name": "Python 3",
   "language": "python",
   "name": "python3"
  },
  "language_info": {
   "codemirror_mode": {
    "name": "ipython",
    "version": 2
   },
   "file_extension": ".py",
   "mimetype": "text/x-python",
   "name": "python",
   "nbconvert_exporter": "python",
   "pygments_lexer": "ipython2",
   "version": "2.7.6"
  }
 },
 "nbformat": 4,
 "nbformat_minor": 5
}
