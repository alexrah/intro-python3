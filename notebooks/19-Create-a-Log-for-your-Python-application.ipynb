{
 "cells": [
  {
   "cell_type": "markdown",
   "id": "b696c7e74834bf18",
   "metadata": {},
   "source": [
    "[19-Create-a-Log-for-your-Python-application.md](https://github.com/eggheadio-projects/introduction-to-the-python-3-programming-language-notes/blob/master/19-Create-a-Log-for-your-Python-application.md)"
   ]
  },
  {
   "cell_type": "code",
   "id": "1ee1f5aab08f9f97",
   "metadata": {
    "ExecuteTime": {
     "end_time": "2024-07-06T00:02:57.944803Z",
     "start_time": "2024-07-06T00:02:57.941370Z"
    }
   },
   "source": [
    "import logging\n",
    "logging.critical('This is a critical message')"
   ],
   "outputs": [
    {
     "name": "stderr",
     "output_type": "stream",
     "text": [
      "CRITICAL:root:This is a critical message\n"
     ]
    }
   ],
   "execution_count": 38
  },
  {
   "cell_type": "markdown",
   "id": "f1a3bd8e5aa15f4e",
   "metadata": {},
   "source": [
    "When importing logging, the default is **warning**. Any level below warning will NOT be returned in the terminal."
   ]
  },
  {
   "cell_type": "code",
   "id": "b9d59e7c2acca0c4",
   "metadata": {
    "ExecuteTime": {
     "end_time": "2024-07-06T00:02:57.958593Z",
     "start_time": "2024-07-06T00:02:57.954966Z"
    }
   },
   "source": [
    "logging.warning('This is a warning message')\n",
    "logging.debug('This is a debug message')"
   ],
   "outputs": [
    {
     "name": "stderr",
     "output_type": "stream",
     "text": [
      "WARNING:root:This is a warning message\n"
     ]
    }
   ],
   "execution_count": 39
  },
  {
   "metadata": {},
   "cell_type": "markdown",
   "source": [
    "1. Create a logger instance\n",
    "2. create a logging fileHandler instance\n",
    "3. create a logging formatter instance and set it to the fileHandler create in the prev step\n",
    "4. avoid logger to propagate, that is, do not use default handlers; reset handlers, set the fileHandler configured in the prev steps\n",
    "\n",
    "ref: [python logging file is not working when using logging.basicConfig](https://stackoverflow.com/a/56689445/)\n",
    "\n",
    "##### NB: if I keep calling `addHandler()`, I will end up with duplicated messages in logs, therefore it's important to initialize only once and then use it by passing logger instance or the name of the logger"
   ],
   "id": "311edc3d45abcf98"
  },
  {
   "cell_type": "code",
   "id": "19a403b2ecc0102c",
   "metadata": {
    "ExecuteTime": {
     "end_time": "2024-07-06T00:02:57.975823Z",
     "start_time": "2024-07-06T00:02:57.960719Z"
    }
   },
   "source": [
    "# 1\n",
    "logger = logging.getLogger('my-logger') \n",
    "\n",
    "# 2\n",
    "fh = logging.FileHandler('../logs/my-logger.log')\n",
    "\n",
    "# 3\n",
    "logger_formatter = logging.Formatter('%(asctime)s - %(name)s - %(levelname)s - %(message)s')\n",
    "fh.setFormatter(logger_formatter)\n",
    "\n",
    "# 4\n",
    "logger.propagate = False\n",
    "logger.handlers = []\n",
    "logger.addHandler(fh)\n",
    "\n"
   ],
   "outputs": [],
   "execution_count": 40
  },
  {
   "metadata": {},
   "cell_type": "markdown",
   "source": [
    "Test the output of the logger to ../logs/my-logger.log\n",
    "\n",
    "it should write all log levels"
   ],
   "id": "a0cc8df49ad71a8b"
  },
  {
   "cell_type": "code",
   "id": "c6c747bf9b8d137e",
   "metadata": {
    "editable": true,
    "slideshow": {
     "slide_type": ""
    },
    "tags": [],
    "ExecuteTime": {
     "end_time": "2024-07-06T00:02:58.004537Z",
     "start_time": "2024-07-06T00:02:57.994183Z"
    }
   },
   "source": [
    "logger.setLevel(logging.DEBUG)\n",
    "logger.critical('This is a critical message')\n",
    "logger.error('This is an error message')\n",
    "logger.warning('This is a warning message')\n",
    "logger.info('This is a info message')\n",
    "logger.debug('This is a debug message')"
   ],
   "outputs": [],
   "execution_count": 41
  },
  {
   "metadata": {},
   "cell_type": "markdown",
   "source": [
    "reset level to default: warning\n",
    "\n",
    "it should not write info & debug messages"
   ],
   "id": "61a673e0b3c5a00a"
  },
  {
   "cell_type": "code",
   "id": "79f00cfa-ca2a-4cab-a82d-03b2702666f0",
   "metadata": {
    "ExecuteTime": {
     "end_time": "2024-07-06T00:02:58.013225Z",
     "start_time": "2024-07-06T00:02:58.008159Z"
    }
   },
   "source": [
    "logger.setLevel(logging.WARNING)\n",
    "logger.critical('This is a critical message')\n",
    "logger.error('This is an error message')\n",
    "logger.warning('This is a warning message')\n",
    "logger.info('This is a info message')\n",
    "logger.debug('This is a debug message')"
   ],
   "outputs": [],
   "execution_count": 42
  }
 ],
 "metadata": {
  "kernelspec": {
   "display_name": "Python 3 (ipykernel)",
   "language": "python",
   "name": "python3"
  },
  "language_info": {
   "codemirror_mode": {
    "name": "ipython",
    "version": 3
   },
   "file_extension": ".py",
   "mimetype": "text/x-python",
   "name": "python",
   "nbconvert_exporter": "python",
   "pygments_lexer": "ipython3",
   "version": "3.11.9"
  }
 },
 "nbformat": 4,
 "nbformat_minor": 5
}
