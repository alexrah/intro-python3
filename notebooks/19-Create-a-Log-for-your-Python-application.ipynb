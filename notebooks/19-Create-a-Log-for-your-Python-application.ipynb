{
 "cells": [
  {
   "cell_type": "markdown",
   "id": "b696c7e74834bf18",
   "metadata": {},
   "source": [
    "[19-Create-a-Log-for-your-Python-application.md](https://github.com/eggheadio-projects/introduction-to-the-python-3-programming-language-notes/blob/master/19-Create-a-Log-for-your-Python-application.md)"
   ]
  },
  {
   "cell_type": "code",
   "execution_count": 12,
   "id": "1ee1f5aab08f9f97",
   "metadata": {
    "ExecuteTime": {
     "end_time": "2024-07-05T23:21:38.271003Z",
     "start_time": "2024-07-05T23:21:38.267655Z"
    }
   },
   "outputs": [
    {
     "name": "stderr",
     "output_type": "stream",
     "text": [
      "CRITICAL:root:This is a critical message\n"
     ]
    }
   ],
   "source": [
    "import logging\n",
    "logging.critical('This is a critical message')"
   ]
  },
  {
   "cell_type": "markdown",
   "id": "f1a3bd8e5aa15f4e",
   "metadata": {},
   "source": [
    "When importing logging, the default is **warning**. Any level below warning will NOT be returned in the terminal."
   ]
  },
  {
   "cell_type": "code",
   "execution_count": 13,
   "id": "b9d59e7c2acca0c4",
   "metadata": {
    "ExecuteTime": {
     "end_time": "2024-07-05T23:21:38.289135Z",
     "start_time": "2024-07-05T23:21:38.285672Z"
    }
   },
   "outputs": [
    {
     "name": "stderr",
     "output_type": "stream",
     "text": [
      "WARNING:root:This is a warning message\n"
     ]
    }
   ],
   "source": [
    "logging.warning('This is a warning message')\n",
    "logging.debug('This is a debug message')"
   ]
  },
  {
   "cell_type": "code",
   "execution_count": null,
   "id": "19a403b2ecc0102c",
   "metadata": {
    "ExecuteTime": {
     "end_time": "2024-07-05T23:21:38.294923Z",
     "start_time": "2024-07-05T23:21:38.292778Z"
    }
   },
   "outputs": [],
   "source": []
  },
  {
   "cell_type": "code",
   "execution_count": 14,
   "id": "c6c747bf9b8d137e",
   "metadata": {
    "ExecuteTime": {
     "end_time": "2024-07-05T23:21:38.306461Z",
     "start_time": "2024-07-05T23:21:38.301835Z"
    },
    "editable": true,
    "slideshow": {
     "slide_type": ""
    },
    "tags": []
   },
   "outputs": [],
   "source": [
    "logger = logging.getLogger('my-logger') \n",
    "fh = logging.FileHandler('../logs/my-logger.log')\n",
    "# do not \n",
    "logger.propagate = False\n",
    "logger.addHandler(fh)\n",
    "logger.critical('This is a critical message')\n",
    "logger.error('This is an error message')\n",
    "logger.warning('This is a warning message')\n",
    "logger.info('This is a info message')\n",
    "logger.debug('This is a debug message')"
   ]
  },
  {
   "cell_type": "code",
   "execution_count": null,
   "id": "79f00cfa-ca2a-4cab-a82d-03b2702666f0",
   "metadata": {},
   "outputs": [],
   "source": []
  }
 ],
 "metadata": {
  "kernelspec": {
   "display_name": "Python 3 (ipykernel)",
   "language": "python",
   "name": "python3"
  },
  "language_info": {
   "codemirror_mode": {
    "name": "ipython",
    "version": 3
   },
   "file_extension": ".py",
   "mimetype": "text/x-python",
   "name": "python",
   "nbconvert_exporter": "python",
   "pygments_lexer": "ipython3",
   "version": "3.11.9"
  }
 },
 "nbformat": 4,
 "nbformat_minor": 5
}
