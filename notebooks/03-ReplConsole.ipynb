{
 "cells": [
  {
   "cell_type": "code",
   "id": "initial_id",
   "metadata": {
    "collapsed": true,
    "ExecuteTime": {
     "end_time": "2024-06-25T01:00:40.519569Z",
     "start_time": "2024-06-25T01:00:40.513728Z"
    }
   },
   "source": "print('Foooo!!!')",
   "outputs": [
    {
     "name": "stdout",
     "output_type": "stream",
     "text": [
      "Foooo!!!\n"
     ]
    }
   ],
   "execution_count": 1
  },
  {
   "metadata": {
    "ExecuteTime": {
     "end_time": "2024-06-25T01:26:11.888268Z",
     "start_time": "2024-06-25T01:26:11.884856Z"
    }
   },
   "cell_type": "code",
   "source": [
    "import datetime\n",
    "now = datetime.datetime.now()\n",
    "print(now)"
   ],
   "id": "910c2f0dad4b4993",
   "outputs": [
    {
     "name": "stdout",
     "output_type": "stream",
     "text": [
      "2024-06-25 03:26:11.886188\n"
     ]
    }
   ],
   "execution_count": 2
  },
  {
   "metadata": {
    "ExecuteTime": {
     "end_time": "2024-06-25T01:42:22.449840Z",
     "start_time": "2024-06-25T01:42:22.445162Z"
    }
   },
   "cell_type": "code",
   "source": [
    "def add(x:int,y:int) -> int:\n",
    "  \"\"\" write some documentation \"\"\"\n",
    "  return x+y\n",
    "\n",
    "add(2,2)"
   ],
   "id": "1db59e22d60ed1f2",
   "outputs": [
    {
     "data": {
      "text/plain": [
       "4"
      ]
     },
     "execution_count": 5,
     "metadata": {},
     "output_type": "execute_result"
    }
   ],
   "execution_count": 5
  }
 ],
 "metadata": {
  "kernelspec": {
   "display_name": "Python 3",
   "language": "python",
   "name": "python3"
  },
  "language_info": {
   "codemirror_mode": {
    "name": "ipython",
    "version": 2
   },
   "file_extension": ".py",
   "mimetype": "text/x-python",
   "name": "python",
   "nbconvert_exporter": "python",
   "pygments_lexer": "ipython2",
   "version": "2.7.6"
  }
 },
 "nbformat": 4,
 "nbformat_minor": 5
}
