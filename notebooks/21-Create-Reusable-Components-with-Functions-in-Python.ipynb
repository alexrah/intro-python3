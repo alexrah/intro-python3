{
 "cells": [
  {
   "metadata": {},
   "cell_type": "markdown",
   "source": "[21-Create-Reusable-Components-with-Functions-in-Python.md](https://github.com/eggheadio-projects/introduction-to-the-python-3-programming-language-notes/blob/master/21-Create-Reusable-Components-with-Functions-in-Python.md)",
   "id": "d6250f73d2d1805d"
  },
  {
   "metadata": {
    "ExecuteTime": {
     "end_time": "2024-07-06T16:25:44.910545Z",
     "start_time": "2024-07-06T16:25:44.904157Z"
    }
   },
   "cell_type": "code",
   "source": [
    "def say_name(name: str) -> str: \n",
    "  \"\"\" Say a name.\"\"\"\n",
    "  print('Hello ' + name)\n",
    "  return name\n",
    "\n",
    "say_name('John')"
   ],
   "id": "167ab06e33b0692b",
   "outputs": [
    {
     "name": "stdout",
     "output_type": "stream",
     "text": [
      "Hello John\n"
     ]
    },
    {
     "data": {
      "text/plain": [
       "'John'"
      ]
     },
     "execution_count": 9,
     "metadata": {},
     "output_type": "execute_result"
    }
   ],
   "execution_count": 9
  },
  {
   "metadata": {},
   "cell_type": "markdown",
   "source": [
    "#### Positional arguments VS Keyword arguments:\n",
    "* in the first call to `print_items()` we pass args without keywords, so it MUST match the function's signature order\n",
    "* in the second call args are passed in random order, but using keywords to map them to the correct args "
   ],
   "id": "ce74aae18fb9bf60"
  },
  {
   "metadata": {
    "ExecuteTime": {
     "end_time": "2024-07-06T23:26:02.606589Z",
     "start_time": "2024-07-06T23:26:02.599342Z"
    }
   },
   "cell_type": "code",
   "source": [
    "from typing import Literal\n",
    "tCount = Literal[1,2,3,4,5,6,7,8,9,10]\n",
    "\n",
    "def print_items(count:tCount, obj_type:str, color:str = 'purple') -> None:\n",
    "  print(f\"{count} {obj_type} of color {color} \")\n",
    "\n",
    "print_items('3', 'phone', 'blue')\n",
    "print_items(color='red',count=26,obj_type='table')"
   ],
   "id": "8324d3879beef209",
   "outputs": [
    {
     "name": "stdout",
     "output_type": "stream",
     "text": [
      "3 phone of color blue \n",
      "26 table of color red \n"
     ]
    }
   ],
   "execution_count": 1
  }
 ],
 "metadata": {
  "kernelspec": {
   "display_name": "Python 3",
   "language": "python",
   "name": "python3"
  },
  "language_info": {
   "codemirror_mode": {
    "name": "ipython",
    "version": 2
   },
   "file_extension": ".py",
   "mimetype": "text/x-python",
   "name": "python",
   "nbconvert_exporter": "python",
   "pygments_lexer": "ipython2",
   "version": "2.7.6"
  }
 },
 "nbformat": 4,
 "nbformat_minor": 5
}
