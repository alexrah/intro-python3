{
 "cells": [
  {
   "metadata": {},
   "cell_type": "markdown",
   "source": "### Without list comprehension",
   "id": "501cc129f467c1e7"
  },
  {
   "cell_type": "code",
   "id": "initial_id",
   "metadata": {
    "collapsed": true,
    "ExecuteTime": {
     "end_time": "2024-07-02T15:34:17.214550Z",
     "start_time": "2024-07-02T15:34:17.210555Z"
    }
   },
   "source": [
    "zoo_animals = ['giraffe','monkey','elephant','lion','bear','pig','horse','aardvark']\n",
    "my_animals = ['monkey', 'bear', 'pig']\n",
    "not_my_aninals = []\n",
    "for animal in zoo_animals:\n",
    "  if animal not in my_animals:\n",
    "    not_my_aninals.append(animal)\n",
    "    \n",
    "print(not_my_aninals)"
   ],
   "outputs": [
    {
     "name": "stdout",
     "output_type": "stream",
     "text": [
      "['giraffe', 'elephant', 'lion', 'horse', 'aardvark']\n"
     ]
    }
   ],
   "execution_count": 3
  },
  {
   "metadata": {},
   "cell_type": "markdown",
   "source": "### With list comprehension",
   "id": "4b9b77d9f456ae5c"
  },
  {
   "metadata": {
    "ExecuteTime": {
     "end_time": "2024-07-02T15:35:55.706895Z",
     "start_time": "2024-07-02T15:35:55.702895Z"
    }
   },
   "cell_type": "code",
   "source": [
    "not_my_animals_comprehension = [animal for animal in zoo_animals if animal not in my_animals]\n",
    "print(not_my_animals_comprehension)\n"
   ],
   "id": "197d8a3156d83fb4",
   "outputs": [
    {
     "name": "stdout",
     "output_type": "stream",
     "text": [
      "['giraffe', 'elephant', 'lion', 'horse', 'aardvark']\n"
     ]
    }
   ],
   "execution_count": 5
  },
  {
   "metadata": {
    "ExecuteTime": {
     "end_time": "2024-07-02T21:16:43.863103Z",
     "start_time": "2024-07-02T21:16:43.859204Z"
    }
   },
   "cell_type": "code",
   "source": [
    "sales = [3.14, 7.99, 10.99, 0.99, 1.24]\n",
    "sales_plus_vat = [sale * 2 for sale in sales ]\n",
    "print(sales_plus_vat)"
   ],
   "id": "edbdeafa78152a1f",
   "outputs": [
    {
     "name": "stdout",
     "output_type": "stream",
     "text": [
      "[6.28, 15.98, 21.98, 1.98, 2.48]\n"
     ]
    }
   ],
   "execution_count": 6
  }
 ],
 "metadata": {
  "kernelspec": {
   "display_name": "Python 3",
   "language": "python",
   "name": "python3"
  },
  "language_info": {
   "codemirror_mode": {
    "name": "ipython",
    "version": 2
   },
   "file_extension": ".py",
   "mimetype": "text/x-python",
   "name": "python",
   "nbconvert_exporter": "python",
   "pygments_lexer": "ipython2",
   "version": "2.7.6"
  }
 },
 "nbformat": 4,
 "nbformat_minor": 5
}
