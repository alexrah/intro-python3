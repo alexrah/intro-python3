{
 "cells": [
  {
   "metadata": {},
   "cell_type": "markdown",
   "source": "[15-Manipulate-Data-with-Dictionaries-in-Python.md](https://github.com/eggheadio-projects/introduction-to-the-python-3-programming-language-notes/blob/master/15-Manipulate-Data-with-Dictionaries-in-Python.md)",
   "id": "da12dcd0aec2b0c6"
  },
  {
   "metadata": {},
   "cell_type": "markdown",
   "source": [
    "#### Create an iterator function to feed into a `dict()` to initialize with a series of tuples `key:value` \n",
    "NB: I had to move `import` inside the function to avoid errors when calling function in other cells"
   ],
   "id": "21b8727017cbcfc1"
  },
  {
   "cell_type": "code",
   "id": "initial_id",
   "metadata": {
    "ExecuteTime": {
     "end_time": "2024-07-02T21:59:56.980179Z",
     "start_time": "2024-07-02T21:59:56.976689Z"
    }
   },
   "source": [
    "def get_random_strings(str_length = 5, count = 10):\n",
    "  import random\n",
    "  import string\n",
    "  letters = string.ascii_letters\n",
    "  for index in range(count):\n",
    "    yield index, \"\".join(random.choices(letters, k=str_length))\n",
    "  \n",
    "for string in get_random_strings():\n",
    "  print(string)\n"
   ],
   "outputs": [
    {
     "name": "stdout",
     "output_type": "stream",
     "text": [
      "(0, 'fAJLM')\n",
      "(1, 'CyMVi')\n",
      "(2, 'bieFD')\n",
      "(3, 'ZUwGe')\n",
      "(4, 'MCleF')\n",
      "(5, 'WlGfS')\n",
      "(6, 'YMFnn')\n",
      "(7, 'lMftR')\n",
      "(8, 'LrWOV')\n",
      "(9, 'bGWna')\n"
     ]
    }
   ],
   "execution_count": 94
  },
  {
   "metadata": {},
   "cell_type": "markdown",
   "source": "#### Initialize the `dict()`",
   "id": "c711d509a2edcf7c"
  },
  {
   "cell_type": "code",
   "id": "6188590f745c8638",
   "metadata": {
    "ExecuteTime": {
     "end_time": "2024-07-02T22:01:28.045552Z",
     "start_time": "2024-07-02T22:01:28.041540Z"
    }
   },
   "source": [
    "my_dict = dict(get_random_strings())\n",
    "print(my_dict)"
   ],
   "outputs": [
    {
     "name": "stdout",
     "output_type": "stream",
     "text": [
      "{0: 'EVVRJ', 1: 'BjybL', 2: 'eQdFD', 3: 'jgrag', 4: 'XJjjn', 5: 'yEkzO', 6: 'lgRes', 7: 'KQcoU', 8: 'HZmSB', 9: 'eEuDK'}\n"
     ]
    }
   ],
   "execution_count": 115
  },
  {
   "metadata": {},
   "cell_type": "markdown",
   "source": [
    "* #### Get value knowing the key\n",
    "* #### check if a key exists\n",
    "* #### get value knowing the key (alternative method)"
   ],
   "id": "7baf22afab5c548a"
  },
  {
   "metadata": {
    "ExecuteTime": {
     "end_time": "2024-07-02T22:03:22.549688Z",
     "start_time": "2024-07-02T22:03:22.544844Z"
    }
   },
   "cell_type": "code",
   "source": [
    "print(my_dict.get(5))\n",
    "print(5 in my_dict)\n",
    "my_dict[5]"
   ],
   "id": "30d065b7a7f9ef25",
   "outputs": [
    {
     "name": "stdout",
     "output_type": "stream",
     "text": [
      "yEkzO\n",
      "True\n"
     ]
    },
    {
     "data": {
      "text/plain": [
       "'yEkzO'"
      ]
     },
     "execution_count": 127,
     "metadata": {},
     "output_type": "execute_result"
    }
   ],
   "execution_count": 127
  },
  {
   "metadata": {},
   "cell_type": "markdown",
   "source": [
    "* #### re-assign a value to key\n",
    "* #### delete value"
   ],
   "id": "e04fae31e96f9621"
  },
  {
   "metadata": {
    "ExecuteTime": {
     "end_time": "2024-07-02T22:18:09.019769Z",
     "start_time": "2024-07-02T22:18:09.015991Z"
    }
   },
   "cell_type": "code",
   "source": [
    "my_dict[5] = 'foo'\n",
    "print(my_dict)\n",
    "del my_dict[9]\n",
    "print(my_dict)"
   ],
   "id": "94234beab52c7730",
   "outputs": [
    {
     "name": "stdout",
     "output_type": "stream",
     "text": [
      "{0: 'EVVRJ', 1: 'BjybL', 2: 'eQdFD', 3: 'jgrag', 4: 'XJjjn', 5: 'foo', 6: 'lgRes', 7: 'KQcoU', 8: 'HZmSB', 9: 'eEuDK'}\n",
      "{0: 'EVVRJ', 1: 'BjybL', 2: 'eQdFD', 3: 'jgrag', 4: 'XJjjn', 5: 'foo', 6: 'lgRes', 7: 'KQcoU', 8: 'HZmSB'}\n"
     ]
    }
   ],
   "execution_count": 138
  },
  {
   "metadata": {},
   "cell_type": "markdown",
   "source": "#### Find the key (first occurrence) of a dict value ",
   "id": "717abe966baf9590"
  },
  {
   "metadata": {
    "ExecuteTime": {
     "end_time": "2024-07-02T22:10:26.646263Z",
     "start_time": "2024-07-02T22:10:26.642338Z"
    }
   },
   "cell_type": "code",
   "source": "list(my_dict.values()).index('foo')",
   "id": "5675de3ccfbb7376",
   "outputs": [
    {
     "data": {
      "text/plain": [
       "5"
      ]
     },
     "execution_count": 137,
     "metadata": {},
     "output_type": "execute_result"
    }
   ],
   "execution_count": 137
  }
 ],
 "metadata": {
  "kernelspec": {
   "display_name": "Python 3 (ipykernel)",
   "language": "python",
   "name": "python3"
  },
  "language_info": {
   "codemirror_mode": {
    "name": "ipython",
    "version": 3
   },
   "file_extension": ".py",
   "mimetype": "text/x-python",
   "name": "python",
   "nbconvert_exporter": "python",
   "pygments_lexer": "ipython3",
   "version": "3.11.9"
  }
 },
 "nbformat": 4,
 "nbformat_minor": 5
}
