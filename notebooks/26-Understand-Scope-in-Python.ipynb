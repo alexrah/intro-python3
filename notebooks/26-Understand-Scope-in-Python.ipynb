{
 "cells": [
  {
   "metadata": {},
   "cell_type": "markdown",
   "source": "[26-Understand-Scope-in-Python.md](https://github.com/eggheadio-projects/introduction-to-the-python-3-programming-language-notes/blob/master/26-Understand-Scope-in-Python.md)",
   "id": "5f1d914022c1c2f1"
  },
  {
   "metadata": {},
   "cell_type": "markdown",
   "source": "test nested function with `local` scoped variables",
   "id": "c18b701d266baeb2"
  },
  {
   "metadata": {
    "ExecuteTime": {
     "end_time": "2024-07-07T20:44:17.622456Z",
     "start_time": "2024-07-07T20:44:17.618275Z"
    }
   },
   "cell_type": "code",
   "source": [
    "def parent():\n",
    "  first_var = 'parent'\n",
    "  \n",
    "  def first_child():\n",
    "    first_var = 'first_child'\n",
    "    \n",
    "    def second_child():\n",
    "      first_var = 'second_child'\n",
    "      print(f'second_child first_var: {first_var}')\n",
    "    print(f'first_child first_var: {first_var}')\n",
    "    second_child()\n",
    "      \n",
    "  print(f'parent first_var: {first_var}')\n",
    "  first_child()\n",
    "\n",
    "parent()"
   ],
   "id": "4947d963d5a77c42",
   "outputs": [
    {
     "name": "stdout",
     "output_type": "stream",
     "text": [
      "parent first_var: parent\n",
      "first_child first_var: first_child\n",
      "second_child first_var: second_child\n"
     ]
    }
   ],
   "execution_count": 6
  },
  {
   "metadata": {},
   "cell_type": "markdown",
   "source": "test nested function with `nonlocal` scoped variables",
   "id": "a4aa1ec2fbf00339"
  },
  {
   "metadata": {
    "ExecuteTime": {
     "end_time": "2024-07-07T20:47:17.173569Z",
     "start_time": "2024-07-07T20:47:17.168780Z"
    }
   },
   "cell_type": "code",
   "source": [
    "def parent():\n",
    "  first_var = 'parent'\n",
    "  \n",
    "  def first_child():\n",
    "    nonlocal first_var\n",
    "    first_var = 'first_child'\n",
    "    \n",
    "    def second_child():\n",
    "      first_var = 'second_child'\n",
    "      print(f'second_child first_var: {first_var}')\n",
    "    second_child()\n",
    "    print(f'first_child first_var: {first_var}')\n",
    "      \n",
    "  first_child()\n",
    "  print(f'parent first_var: {first_var}')\n",
    "\n",
    "parent()"
   ],
   "id": "40ae6a47c05749e9",
   "outputs": [
    {
     "name": "stdout",
     "output_type": "stream",
     "text": [
      "second_child first_var: second_child\n",
      "first_child first_var: first_child\n",
      "parent first_var: first_child\n"
     ]
    }
   ],
   "execution_count": 9
  },
  {
   "metadata": {},
   "cell_type": "markdown",
   "source": "test nested function with `global` scoped variables",
   "id": "f18a1aad12c15520"
  },
  {
   "metadata": {
    "ExecuteTime": {
     "end_time": "2024-07-07T20:52:02.272471Z",
     "start_time": "2024-07-07T20:52:02.268375Z"
    }
   },
   "cell_type": "code",
   "source": [
    "global first_var\n",
    "\n",
    "def parent():\n",
    "  # first_var = 'parent'\n",
    "\n",
    "  def first_child():\n",
    "    # first_var = 'first_child'\n",
    "    \n",
    "    def second_child():\n",
    "      first_var = 'second_child'\n",
    "      print(f'second_child first_var: {first_var}')\n",
    "    second_child()\n",
    "    print(f'first_child first_var: {first_var}')\n",
    "      \n",
    "  first_child()\n",
    "  print(f'parent first_var: {first_var}')\n",
    "\n",
    "parent()"
   ],
   "id": "2131ecc9dcdef73e",
   "outputs": [
    {
     "name": "stdout",
     "output_type": "stream",
     "text": [
      "second_child first_var: second_child\n",
      "first_child first_var: second_child\n",
      "parent first_var: second_child\n"
     ]
    }
   ],
   "execution_count": 19
  }
 ],
 "metadata": {
  "kernelspec": {
   "display_name": "Python 3",
   "language": "python",
   "name": "python3"
  },
  "language_info": {
   "codemirror_mode": {
    "name": "ipython",
    "version": 2
   },
   "file_extension": ".py",
   "mimetype": "text/x-python",
   "name": "python",
   "nbconvert_exporter": "python",
   "pygments_lexer": "ipython2",
   "version": "2.7.6"
  }
 },
 "nbformat": 4,
 "nbformat_minor": 5
}
