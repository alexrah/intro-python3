{
 "cells": [
  {
   "metadata": {},
   "cell_type": "markdown",
   "source": "[13-Slice-Lists-in-Python.md](https://github.com/eggheadio-projects/introduction-to-the-python-3-programming-language-notes/blob/master/13-Slice-Lists-in-Python.md)",
   "id": "dad812303fb9ad2e"
  },
  {
   "cell_type": "code",
   "id": "initial_id",
   "metadata": {
    "collapsed": true,
    "ExecuteTime": {
     "end_time": "2024-07-02T15:10:26.078179Z",
     "start_time": "2024-07-02T15:10:26.074751Z"
    }
   },
   "source": [
    "mylist = list(range(1,11))\n",
    "print(mylist)"
   ],
   "outputs": [
    {
     "name": "stdout",
     "output_type": "stream",
     "text": [
      "[1, 2, 3, 4, 5, 6, 7, 8, 9, 10]\n"
     ]
    }
   ],
   "execution_count": 5
  },
  {
   "metadata": {
    "ExecuteTime": {
     "end_time": "2024-07-02T15:10:28.855077Z",
     "start_time": "2024-07-02T15:10:28.850495Z"
    }
   },
   "cell_type": "code",
   "source": "mylist[2:5]",
   "id": "659bf5bd826020b6",
   "outputs": [
    {
     "data": {
      "text/plain": [
       "[3, 4, 5]"
      ]
     },
     "execution_count": 6,
     "metadata": {},
     "output_type": "execute_result"
    }
   ],
   "execution_count": 6
  },
  {
   "metadata": {
    "ExecuteTime": {
     "end_time": "2024-07-02T15:11:08.478485Z",
     "start_time": "2024-07-02T15:11:08.474145Z"
    }
   },
   "cell_type": "code",
   "source": "mylist[2:]",
   "id": "34b9dd8d97d3d025",
   "outputs": [
    {
     "data": {
      "text/plain": [
       "[3, 4, 5, 6, 7, 8, 9, 10]"
      ]
     },
     "execution_count": 7,
     "metadata": {},
     "output_type": "execute_result"
    }
   ],
   "execution_count": 7
  },
  {
   "metadata": {
    "ExecuteTime": {
     "end_time": "2024-07-02T15:11:44.905819Z",
     "start_time": "2024-07-02T15:11:44.901358Z"
    }
   },
   "cell_type": "code",
   "source": "mylist[:2]",
   "id": "22dfd3b1ad957b45",
   "outputs": [
    {
     "data": {
      "text/plain": [
       "[1, 2]"
      ]
     },
     "execution_count": 8,
     "metadata": {},
     "output_type": "execute_result"
    }
   ],
   "execution_count": 8
  },
  {
   "metadata": {
    "ExecuteTime": {
     "end_time": "2024-07-02T15:13:45.285668Z",
     "start_time": "2024-07-02T15:13:45.281441Z"
    }
   },
   "cell_type": "code",
   "source": "mylist[-4:]",
   "id": "46c4ba9813338c37",
   "outputs": [
    {
     "data": {
      "text/plain": [
       "[7, 8, 9, 10]"
      ]
     },
     "execution_count": 9,
     "metadata": {},
     "output_type": "execute_result"
    }
   ],
   "execution_count": 9
  },
  {
   "metadata": {
    "ExecuteTime": {
     "end_time": "2024-07-02T15:14:31.554547Z",
     "start_time": "2024-07-02T15:14:31.550194Z"
    }
   },
   "cell_type": "code",
   "source": [
    "mylist[:2] = ['a','b']\n",
    "mylist"
   ],
   "id": "e8e28a2ec10a45e2",
   "outputs": [
    {
     "data": {
      "text/plain": [
       "['a', 'b', 3, 4, 5, 6, 7, 8, 9, 10]"
      ]
     },
     "execution_count": 11,
     "metadata": {},
     "output_type": "execute_result"
    }
   ],
   "execution_count": 11
  }
 ],
 "metadata": {
  "kernelspec": {
   "display_name": "Python 3",
   "language": "python",
   "name": "python3"
  },
  "language_info": {
   "codemirror_mode": {
    "name": "ipython",
    "version": 2
   },
   "file_extension": ".py",
   "mimetype": "text/x-python",
   "name": "python",
   "nbconvert_exporter": "python",
   "pygments_lexer": "ipython2",
   "version": "2.7.6"
  }
 },
 "nbformat": 4,
 "nbformat_minor": 5
}
